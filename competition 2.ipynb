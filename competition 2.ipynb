{
 "cells": [
  {
   "cell_type": "markdown",
   "id": "266da37e",
   "metadata": {},
   "source": [
    "Air is what keeps humans alive. Monitoring it and understanding its quality is of immense importance to our well-being.\n",
    "The dataset contains air quality data and AQI (Air Quality Index) at hourly and daily level of various stations across multiple cities in India.\n",
    "The air quality is classified into one of the six buckets:Good,Moderate,Satisfactory,Poor,Very Poor,Severe. This dataset is to predict the air quality of states at daily level basis\n",
    "\n",
    "Data Set Description\n",
    "\n",
    "City: Indian Cities\n",
    "\n",
    "Date: Date from 2015-2020\n",
    "\n",
    "PM2.5: Fine particulate matter\n",
    "\n",
    "PM10: Particulate Matter\n",
    "\n",
    "NO: Nitirc Oxide\n",
    "\n",
    "NO2: Nitrogen Dioxide\n",
    "\n",
    "NH3:Ammonia\n",
    "\n",
    "CO:Carbon Monoxide\n",
    "\n",
    "SO2:Sulfur dioxide\n",
    "\n",
    "O3:Ozone\n",
    "\n",
    "Benzene:organic chemical compound with the molecular formula C₆H₆\n",
    "\n",
    "Toluene: Substituted aromatic hydrocarbon\n",
    "\n",
    "Xylene:Dimethylbenzene\n",
    "\n",
    "AQI: An index for reporting air quality on a daily basis."
   ]
  },
  {
   "cell_type": "markdown",
   "id": "df2daa95",
   "metadata": {},
   "source": [
    "# Importing required libraries"
   ]
  },
  {
   "cell_type": "code",
   "execution_count": 1,
   "id": "5c62653a",
   "metadata": {},
   "outputs": [],
   "source": [
    "import pandas as pd\n",
    "import numpy as np\n",
    "import matplotlib.pyplot as plt\n",
    "import seaborn as sns"
   ]
  },
  {
   "cell_type": "markdown",
   "id": "f72f7ca5",
   "metadata": {},
   "source": [
    "# Load dataset"
   ]
  },
  {
   "cell_type": "code",
   "execution_count": 2,
   "id": "c5bc7016",
   "metadata": {},
   "outputs": [],
   "source": [
    "city_day=pd.read_csv(r\"C:\\Users\\DELNA ROSE\\New folder\\Downloads\\city_day.csv\\city_day.csv\")"
   ]
  },
  {
   "cell_type": "code",
   "execution_count": 3,
   "id": "84eec6b8",
   "metadata": {},
   "outputs": [
    {
     "data": {
      "text/html": [
       "<div>\n",
       "<style scoped>\n",
       "    .dataframe tbody tr th:only-of-type {\n",
       "        vertical-align: middle;\n",
       "    }\n",
       "\n",
       "    .dataframe tbody tr th {\n",
       "        vertical-align: top;\n",
       "    }\n",
       "\n",
       "    .dataframe thead th {\n",
       "        text-align: right;\n",
       "    }\n",
       "</style>\n",
       "<table border=\"1\" class=\"dataframe\">\n",
       "  <thead>\n",
       "    <tr style=\"text-align: right;\">\n",
       "      <th></th>\n",
       "      <th>City</th>\n",
       "      <th>Date</th>\n",
       "      <th>PM2.5</th>\n",
       "      <th>PM10</th>\n",
       "      <th>NO</th>\n",
       "      <th>NO2</th>\n",
       "      <th>NOx</th>\n",
       "      <th>NH3</th>\n",
       "      <th>CO</th>\n",
       "      <th>SO2</th>\n",
       "      <th>O3</th>\n",
       "      <th>Benzene</th>\n",
       "      <th>Toluene</th>\n",
       "      <th>Xylene</th>\n",
       "      <th>AQI</th>\n",
       "      <th>AQI_Bucket</th>\n",
       "    </tr>\n",
       "  </thead>\n",
       "  <tbody>\n",
       "    <tr>\n",
       "      <th>0</th>\n",
       "      <td>Ahmedabad</td>\n",
       "      <td>2015-01-01</td>\n",
       "      <td>NaN</td>\n",
       "      <td>NaN</td>\n",
       "      <td>0.92</td>\n",
       "      <td>18.22</td>\n",
       "      <td>17.15</td>\n",
       "      <td>NaN</td>\n",
       "      <td>0.92</td>\n",
       "      <td>27.64</td>\n",
       "      <td>133.36</td>\n",
       "      <td>0.00</td>\n",
       "      <td>0.02</td>\n",
       "      <td>0.00</td>\n",
       "      <td>NaN</td>\n",
       "      <td>NaN</td>\n",
       "    </tr>\n",
       "    <tr>\n",
       "      <th>1</th>\n",
       "      <td>Ahmedabad</td>\n",
       "      <td>2015-01-02</td>\n",
       "      <td>NaN</td>\n",
       "      <td>NaN</td>\n",
       "      <td>0.97</td>\n",
       "      <td>15.69</td>\n",
       "      <td>16.46</td>\n",
       "      <td>NaN</td>\n",
       "      <td>0.97</td>\n",
       "      <td>24.55</td>\n",
       "      <td>34.06</td>\n",
       "      <td>3.68</td>\n",
       "      <td>5.50</td>\n",
       "      <td>3.77</td>\n",
       "      <td>NaN</td>\n",
       "      <td>NaN</td>\n",
       "    </tr>\n",
       "    <tr>\n",
       "      <th>2</th>\n",
       "      <td>Ahmedabad</td>\n",
       "      <td>2015-01-03</td>\n",
       "      <td>NaN</td>\n",
       "      <td>NaN</td>\n",
       "      <td>17.40</td>\n",
       "      <td>19.30</td>\n",
       "      <td>29.70</td>\n",
       "      <td>NaN</td>\n",
       "      <td>17.40</td>\n",
       "      <td>29.07</td>\n",
       "      <td>30.70</td>\n",
       "      <td>6.80</td>\n",
       "      <td>16.40</td>\n",
       "      <td>2.25</td>\n",
       "      <td>NaN</td>\n",
       "      <td>NaN</td>\n",
       "    </tr>\n",
       "    <tr>\n",
       "      <th>3</th>\n",
       "      <td>Ahmedabad</td>\n",
       "      <td>2015-01-04</td>\n",
       "      <td>NaN</td>\n",
       "      <td>NaN</td>\n",
       "      <td>1.70</td>\n",
       "      <td>18.48</td>\n",
       "      <td>17.97</td>\n",
       "      <td>NaN</td>\n",
       "      <td>1.70</td>\n",
       "      <td>18.59</td>\n",
       "      <td>36.08</td>\n",
       "      <td>4.43</td>\n",
       "      <td>10.14</td>\n",
       "      <td>1.00</td>\n",
       "      <td>NaN</td>\n",
       "      <td>NaN</td>\n",
       "    </tr>\n",
       "    <tr>\n",
       "      <th>4</th>\n",
       "      <td>Ahmedabad</td>\n",
       "      <td>2015-01-05</td>\n",
       "      <td>NaN</td>\n",
       "      <td>NaN</td>\n",
       "      <td>22.10</td>\n",
       "      <td>21.42</td>\n",
       "      <td>37.76</td>\n",
       "      <td>NaN</td>\n",
       "      <td>22.10</td>\n",
       "      <td>39.33</td>\n",
       "      <td>39.31</td>\n",
       "      <td>7.01</td>\n",
       "      <td>18.89</td>\n",
       "      <td>2.78</td>\n",
       "      <td>NaN</td>\n",
       "      <td>NaN</td>\n",
       "    </tr>\n",
       "  </tbody>\n",
       "</table>\n",
       "</div>"
      ],
      "text/plain": [
       "        City        Date  PM2.5  PM10     NO    NO2    NOx  NH3     CO    SO2  \\\n",
       "0  Ahmedabad  2015-01-01    NaN   NaN   0.92  18.22  17.15  NaN   0.92  27.64   \n",
       "1  Ahmedabad  2015-01-02    NaN   NaN   0.97  15.69  16.46  NaN   0.97  24.55   \n",
       "2  Ahmedabad  2015-01-03    NaN   NaN  17.40  19.30  29.70  NaN  17.40  29.07   \n",
       "3  Ahmedabad  2015-01-04    NaN   NaN   1.70  18.48  17.97  NaN   1.70  18.59   \n",
       "4  Ahmedabad  2015-01-05    NaN   NaN  22.10  21.42  37.76  NaN  22.10  39.33   \n",
       "\n",
       "       O3  Benzene  Toluene  Xylene  AQI AQI_Bucket  \n",
       "0  133.36     0.00     0.02    0.00  NaN        NaN  \n",
       "1   34.06     3.68     5.50    3.77  NaN        NaN  \n",
       "2   30.70     6.80    16.40    2.25  NaN        NaN  \n",
       "3   36.08     4.43    10.14    1.00  NaN        NaN  \n",
       "4   39.31     7.01    18.89    2.78  NaN        NaN  "
      ]
     },
     "execution_count": 3,
     "metadata": {},
     "output_type": "execute_result"
    }
   ],
   "source": [
    "city_day.head()"
   ]
  },
  {
   "cell_type": "code",
   "execution_count": 5,
   "id": "5008ecf1",
   "metadata": {},
   "outputs": [
    {
     "name": "stdout",
     "output_type": "stream",
     "text": [
      "<class 'pandas.core.frame.DataFrame'>\n",
      "RangeIndex: 26219 entries, 0 to 26218\n",
      "Data columns (total 16 columns):\n",
      " #   Column      Non-Null Count  Dtype  \n",
      "---  ------      --------------  -----  \n",
      " 0   City        26219 non-null  object \n",
      " 1   Date        26219 non-null  object \n",
      " 2   PM2.5       21930 non-null  float64\n",
      " 3   PM10        15453 non-null  float64\n",
      " 4   NO          22986 non-null  float64\n",
      " 5   NO2         23002 non-null  float64\n",
      " 6   NOx         22176 non-null  float64\n",
      " 7   NH3         16372 non-null  float64\n",
      " 8   CO          24258 non-null  float64\n",
      " 9   SO2         22675 non-null  float64\n",
      " 10  O3          22559 non-null  float64\n",
      " 11  Benzene     20932 non-null  float64\n",
      " 12  Toluene     18664 non-null  float64\n",
      " 13  Xylene      9412 non-null   float64\n",
      " 14  AQI         21937 non-null  float64\n",
      " 15  AQI_Bucket  21937 non-null  object \n",
      "dtypes: float64(13), object(3)\n",
      "memory usage: 3.2+ MB\n"
     ]
    }
   ],
   "source": [
    "city_day.info()"
   ]
  },
  {
   "cell_type": "code",
   "execution_count": 6,
   "id": "2c18f384",
   "metadata": {},
   "outputs": [
    {
     "data": {
      "text/plain": [
       "(26219, 16)"
      ]
     },
     "execution_count": 6,
     "metadata": {},
     "output_type": "execute_result"
    }
   ],
   "source": [
    "city_day.shape"
   ]
  },
  {
   "cell_type": "code",
   "execution_count": 7,
   "id": "6f2206ea",
   "metadata": {},
   "outputs": [
    {
     "data": {
      "text/html": [
       "<div>\n",
       "<style scoped>\n",
       "    .dataframe tbody tr th:only-of-type {\n",
       "        vertical-align: middle;\n",
       "    }\n",
       "\n",
       "    .dataframe tbody tr th {\n",
       "        vertical-align: top;\n",
       "    }\n",
       "\n",
       "    .dataframe thead th {\n",
       "        text-align: right;\n",
       "    }\n",
       "</style>\n",
       "<table border=\"1\" class=\"dataframe\">\n",
       "  <thead>\n",
       "    <tr style=\"text-align: right;\">\n",
       "      <th></th>\n",
       "      <th>PM2.5</th>\n",
       "      <th>PM10</th>\n",
       "      <th>NO</th>\n",
       "      <th>NO2</th>\n",
       "      <th>NOx</th>\n",
       "      <th>NH3</th>\n",
       "      <th>CO</th>\n",
       "      <th>SO2</th>\n",
       "      <th>O3</th>\n",
       "      <th>Benzene</th>\n",
       "      <th>Toluene</th>\n",
       "      <th>Xylene</th>\n",
       "      <th>AQI</th>\n",
       "    </tr>\n",
       "  </thead>\n",
       "  <tbody>\n",
       "    <tr>\n",
       "      <th>count</th>\n",
       "      <td>21930.000000</td>\n",
       "      <td>15453.000000</td>\n",
       "      <td>22986.000000</td>\n",
       "      <td>23002.000000</td>\n",
       "      <td>22176.000000</td>\n",
       "      <td>16372.000000</td>\n",
       "      <td>24258.000000</td>\n",
       "      <td>22675.000000</td>\n",
       "      <td>22559.000000</td>\n",
       "      <td>20932.000000</td>\n",
       "      <td>18664.000000</td>\n",
       "      <td>9412.000000</td>\n",
       "      <td>21937.000000</td>\n",
       "    </tr>\n",
       "    <tr>\n",
       "      <th>mean</th>\n",
       "      <td>71.828907</td>\n",
       "      <td>125.492380</td>\n",
       "      <td>18.232528</td>\n",
       "      <td>29.009102</td>\n",
       "      <td>33.657667</td>\n",
       "      <td>25.336162</td>\n",
       "      <td>2.446235</td>\n",
       "      <td>14.988734</td>\n",
       "      <td>34.374248</td>\n",
       "      <td>3.300132</td>\n",
       "      <td>9.029794</td>\n",
       "      <td>3.155895</td>\n",
       "      <td>175.840908</td>\n",
       "    </tr>\n",
       "    <tr>\n",
       "      <th>std</th>\n",
       "      <td>67.161387</td>\n",
       "      <td>94.179918</td>\n",
       "      <td>23.081236</td>\n",
       "      <td>25.158322</td>\n",
       "      <td>32.695931</td>\n",
       "      <td>27.109244</td>\n",
       "      <td>7.385259</td>\n",
       "      <td>19.087561</td>\n",
       "      <td>21.388968</td>\n",
       "      <td>16.699933</td>\n",
       "      <td>21.137700</td>\n",
       "      <td>6.644018</td>\n",
       "      <td>146.143064</td>\n",
       "    </tr>\n",
       "    <tr>\n",
       "      <th>min</th>\n",
       "      <td>0.040000</td>\n",
       "      <td>0.010000</td>\n",
       "      <td>0.020000</td>\n",
       "      <td>0.010000</td>\n",
       "      <td>0.000000</td>\n",
       "      <td>0.010000</td>\n",
       "      <td>0.000000</td>\n",
       "      <td>0.010000</td>\n",
       "      <td>0.010000</td>\n",
       "      <td>0.000000</td>\n",
       "      <td>0.000000</td>\n",
       "      <td>0.000000</td>\n",
       "      <td>13.000000</td>\n",
       "    </tr>\n",
       "    <tr>\n",
       "      <th>25%</th>\n",
       "      <td>31.450000</td>\n",
       "      <td>60.990000</td>\n",
       "      <td>5.930000</td>\n",
       "      <td>11.850000</td>\n",
       "      <td>13.110000</td>\n",
       "      <td>9.197500</td>\n",
       "      <td>0.530000</td>\n",
       "      <td>5.560000</td>\n",
       "      <td>19.010000</td>\n",
       "      <td>0.130000</td>\n",
       "      <td>0.670000</td>\n",
       "      <td>0.120000</td>\n",
       "      <td>85.000000</td>\n",
       "    </tr>\n",
       "    <tr>\n",
       "      <th>50%</th>\n",
       "      <td>52.220000</td>\n",
       "      <td>100.950000</td>\n",
       "      <td>10.150000</td>\n",
       "      <td>21.830000</td>\n",
       "      <td>24.300000</td>\n",
       "      <td>17.820000</td>\n",
       "      <td>0.930000</td>\n",
       "      <td>9.120000</td>\n",
       "      <td>30.890000</td>\n",
       "      <td>0.980000</td>\n",
       "      <td>2.850000</td>\n",
       "      <td>0.820000</td>\n",
       "      <td>124.000000</td>\n",
       "    </tr>\n",
       "    <tr>\n",
       "      <th>75%</th>\n",
       "      <td>85.655000</td>\n",
       "      <td>158.460000</td>\n",
       "      <td>20.830000</td>\n",
       "      <td>37.890000</td>\n",
       "      <td>42.102500</td>\n",
       "      <td>32.600000</td>\n",
       "      <td>1.530000</td>\n",
       "      <td>15.595000</td>\n",
       "      <td>45.370000</td>\n",
       "      <td>2.850000</td>\n",
       "      <td>8.830000</td>\n",
       "      <td>3.232500</td>\n",
       "      <td>226.000000</td>\n",
       "    </tr>\n",
       "    <tr>\n",
       "      <th>max</th>\n",
       "      <td>949.990000</td>\n",
       "      <td>1000.000000</td>\n",
       "      <td>351.300000</td>\n",
       "      <td>362.210000</td>\n",
       "      <td>467.630000</td>\n",
       "      <td>352.890000</td>\n",
       "      <td>175.810000</td>\n",
       "      <td>193.860000</td>\n",
       "      <td>257.730000</td>\n",
       "      <td>455.030000</td>\n",
       "      <td>454.850000</td>\n",
       "      <td>170.370000</td>\n",
       "      <td>2049.000000</td>\n",
       "    </tr>\n",
       "  </tbody>\n",
       "</table>\n",
       "</div>"
      ],
      "text/plain": [
       "              PM2.5          PM10            NO           NO2           NOx  \\\n",
       "count  21930.000000  15453.000000  22986.000000  23002.000000  22176.000000   \n",
       "mean      71.828907    125.492380     18.232528     29.009102     33.657667   \n",
       "std       67.161387     94.179918     23.081236     25.158322     32.695931   \n",
       "min        0.040000      0.010000      0.020000      0.010000      0.000000   \n",
       "25%       31.450000     60.990000      5.930000     11.850000     13.110000   \n",
       "50%       52.220000    100.950000     10.150000     21.830000     24.300000   \n",
       "75%       85.655000    158.460000     20.830000     37.890000     42.102500   \n",
       "max      949.990000   1000.000000    351.300000    362.210000    467.630000   \n",
       "\n",
       "                NH3            CO           SO2            O3       Benzene  \\\n",
       "count  16372.000000  24258.000000  22675.000000  22559.000000  20932.000000   \n",
       "mean      25.336162      2.446235     14.988734     34.374248      3.300132   \n",
       "std       27.109244      7.385259     19.087561     21.388968     16.699933   \n",
       "min        0.010000      0.000000      0.010000      0.010000      0.000000   \n",
       "25%        9.197500      0.530000      5.560000     19.010000      0.130000   \n",
       "50%       17.820000      0.930000      9.120000     30.890000      0.980000   \n",
       "75%       32.600000      1.530000     15.595000     45.370000      2.850000   \n",
       "max      352.890000    175.810000    193.860000    257.730000    455.030000   \n",
       "\n",
       "            Toluene       Xylene           AQI  \n",
       "count  18664.000000  9412.000000  21937.000000  \n",
       "mean       9.029794     3.155895    175.840908  \n",
       "std       21.137700     6.644018    146.143064  \n",
       "min        0.000000     0.000000     13.000000  \n",
       "25%        0.670000     0.120000     85.000000  \n",
       "50%        2.850000     0.820000    124.000000  \n",
       "75%        8.830000     3.232500    226.000000  \n",
       "max      454.850000   170.370000   2049.000000  "
      ]
     },
     "execution_count": 7,
     "metadata": {},
     "output_type": "execute_result"
    }
   ],
   "source": [
    "city_day.describe()"
   ]
  },
  {
   "cell_type": "code",
   "execution_count": 8,
   "id": "d23925fa",
   "metadata": {},
   "outputs": [
    {
     "data": {
      "text/plain": [
       "City             24\n",
       "Date           1948\n",
       "PM2.5         11293\n",
       "PM10          11280\n",
       "NO             5620\n",
       "NO2            7200\n",
       "NOx            7948\n",
       "NH3            5821\n",
       "CO             1779\n",
       "SO2            4678\n",
       "O3             7352\n",
       "Benzene        1791\n",
       "Toluene        3460\n",
       "Xylene         1500\n",
       "AQI             828\n",
       "AQI_Bucket        6\n",
       "dtype: int64"
      ]
     },
     "execution_count": 8,
     "metadata": {},
     "output_type": "execute_result"
    }
   ],
   "source": [
    "city_day.nunique()"
   ]
  },
  {
   "cell_type": "code",
   "execution_count": 9,
   "id": "0f34de85",
   "metadata": {},
   "outputs": [
    {
     "data": {
      "text/plain": [
       "City           object\n",
       "Date           object\n",
       "PM2.5         float64\n",
       "PM10          float64\n",
       "NO            float64\n",
       "NO2           float64\n",
       "NOx           float64\n",
       "NH3           float64\n",
       "CO            float64\n",
       "SO2           float64\n",
       "O3            float64\n",
       "Benzene       float64\n",
       "Toluene       float64\n",
       "Xylene        float64\n",
       "AQI           float64\n",
       "AQI_Bucket     object\n",
       "dtype: object"
      ]
     },
     "execution_count": 9,
     "metadata": {},
     "output_type": "execute_result"
    }
   ],
   "source": [
    "city_day.dtypes"
   ]
  },
  {
   "cell_type": "markdown",
   "id": "12289da2",
   "metadata": {},
   "source": [
    "# Preprocessing"
   ]
  },
  {
   "cell_type": "code",
   "execution_count": 10,
   "id": "0d205628",
   "metadata": {},
   "outputs": [
    {
     "data": {
      "image/png": "[encoded data removed]",
      "text/plain": [
       "<Figure size 1440x1080 with 16 Axes>"
      ]
     },
     "metadata": {
      "needs_background": "light"
     },
     "output_type": "display_data"
    }
   ],
   "source": [
    "city_day.hist(figsize=(20,15))\n",
    "plt.show()"
   ]
  },
  {
   "cell_type": "markdown",
   "id": "dcd20a40",
   "metadata": {},
   "source": [
    "In a skewed distribution, the outliers in the tail pull the mean away from the center towards the longer tail.\n",
    "The median better represents the central tendency for the distribution."
   ]
  },
  {
   "cell_type": "code",
   "execution_count": 11,
   "id": "5a17baf0",
   "metadata": {},
   "outputs": [
    {
     "data": {
      "text/plain": [
       "Xylene        16807\n",
       "PM10          10766\n",
       "NH3            9847\n",
       "Toluene        7555\n",
       "Benzene        5287\n",
       "PM2.5          4289\n",
       "AQI            4282\n",
       "AQI_Bucket     4282\n",
       "NOx            4043\n",
       "O3             3660\n",
       "SO2            3544\n",
       "NO             3233\n",
       "NO2            3217\n",
       "CO             1961\n",
       "City              0\n",
       "Date              0\n",
       "dtype: int64"
      ]
     },
     "execution_count": 11,
     "metadata": {},
     "output_type": "execute_result"
    }
   ],
   "source": [
    "nullvalues=city_day.isnull().sum().sort_values(ascending=False)\n",
    "nullvalues"
   ]
  },
  {
   "cell_type": "code",
   "execution_count": 12,
   "id": "7e5505c1",
   "metadata": {},
   "outputs": [],
   "source": [
    "null_values_percentage=(city_day.isnull().sum()/city_day.isnull().count()*100).sort_values(ascending=False)"
   ]
  },
  {
   "cell_type": "code",
   "execution_count": 13,
   "id": "e886162c",
   "metadata": {},
   "outputs": [
    {
     "data": {
      "text/html": [
       "<div>\n",
       "<style scoped>\n",
       "    .dataframe tbody tr th:only-of-type {\n",
       "        vertical-align: middle;\n",
       "    }\n",
       "\n",
       "    .dataframe tbody tr th {\n",
       "        vertical-align: top;\n",
       "    }\n",
       "\n",
       "    .dataframe thead th {\n",
       "        text-align: right;\n",
       "    }\n",
       "</style>\n",
       "<table border=\"1\" class=\"dataframe\">\n",
       "  <thead>\n",
       "    <tr style=\"text-align: right;\">\n",
       "      <th></th>\n",
       "      <th>Total</th>\n",
       "      <th>Percent</th>\n",
       "    </tr>\n",
       "  </thead>\n",
       "  <tbody>\n",
       "    <tr>\n",
       "      <th>Xylene</th>\n",
       "      <td>16807</td>\n",
       "      <td>64.102369</td>\n",
       "    </tr>\n",
       "    <tr>\n",
       "      <th>PM10</th>\n",
       "      <td>10766</td>\n",
       "      <td>41.061825</td>\n",
       "    </tr>\n",
       "    <tr>\n",
       "      <th>NH3</th>\n",
       "      <td>9847</td>\n",
       "      <td>37.556734</td>\n",
       "    </tr>\n",
       "    <tr>\n",
       "      <th>Toluene</th>\n",
       "      <td>7555</td>\n",
       "      <td>28.814982</td>\n",
       "    </tr>\n",
       "    <tr>\n",
       "      <th>Benzene</th>\n",
       "      <td>5287</td>\n",
       "      <td>20.164766</td>\n",
       "    </tr>\n",
       "    <tr>\n",
       "      <th>PM2.5</th>\n",
       "      <td>4289</td>\n",
       "      <td>16.358366</td>\n",
       "    </tr>\n",
       "    <tr>\n",
       "      <th>AQI</th>\n",
       "      <td>4282</td>\n",
       "      <td>16.331668</td>\n",
       "    </tr>\n",
       "    <tr>\n",
       "      <th>AQI_Bucket</th>\n",
       "      <td>4282</td>\n",
       "      <td>16.331668</td>\n",
       "    </tr>\n",
       "    <tr>\n",
       "      <th>NOx</th>\n",
       "      <td>4043</td>\n",
       "      <td>15.420115</td>\n",
       "    </tr>\n",
       "    <tr>\n",
       "      <th>O3</th>\n",
       "      <td>3660</td>\n",
       "      <td>13.959342</td>\n",
       "    </tr>\n",
       "    <tr>\n",
       "      <th>SO2</th>\n",
       "      <td>3544</td>\n",
       "      <td>13.516915</td>\n",
       "    </tr>\n",
       "    <tr>\n",
       "      <th>NO</th>\n",
       "      <td>3233</td>\n",
       "      <td>12.330753</td>\n",
       "    </tr>\n",
       "    <tr>\n",
       "      <th>NO2</th>\n",
       "      <td>3217</td>\n",
       "      <td>12.269728</td>\n",
       "    </tr>\n",
       "    <tr>\n",
       "      <th>CO</th>\n",
       "      <td>1961</td>\n",
       "      <td>7.479309</td>\n",
       "    </tr>\n",
       "    <tr>\n",
       "      <th>City</th>\n",
       "      <td>0</td>\n",
       "      <td>0.000000</td>\n",
       "    </tr>\n",
       "    <tr>\n",
       "      <th>Date</th>\n",
       "      <td>0</td>\n",
       "      <td>0.000000</td>\n",
       "    </tr>\n",
       "  </tbody>\n",
       "</table>\n",
       "</div>"
      ],
      "text/plain": [
       "            Total    Percent\n",
       "Xylene      16807  64.102369\n",
       "PM10        10766  41.061825\n",
       "NH3          9847  37.556734\n",
       "Toluene      7555  28.814982\n",
       "Benzene      5287  20.164766\n",
       "PM2.5        4289  16.358366\n",
       "AQI          4282  16.331668\n",
       "AQI_Bucket   4282  16.331668\n",
       "NOx          4043  15.420115\n",
       "O3           3660  13.959342\n",
       "SO2          3544  13.516915\n",
       "NO           3233  12.330753\n",
       "NO2          3217  12.269728\n",
       "CO           1961   7.479309\n",
       "City            0   0.000000\n",
       "Date            0   0.000000"
      ]
     },
     "execution_count": 13,
     "metadata": {},
     "output_type": "execute_result"
    }
   ],
   "source": [
    "missing_data_with_percentage = pd.concat([nullvalues, null_values_percentage], axis=1, keys=['Total', 'Percent'])\n",
    "missing_data_with_percentage"
   ]
  },
  {
   "cell_type": "markdown",
   "id": "bceddfd8",
   "metadata": {},
   "source": [
    "# a. Checking Missing values"
   ]
  },
  {
   "cell_type": "code",
   "execution_count": 14,
   "id": "b298856c",
   "metadata": {},
   "outputs": [
    {
     "data": {
      "text/plain": [
       "City             0\n",
       "Date             0\n",
       "PM2.5            0\n",
       "PM10             0\n",
       "NO               0\n",
       "NO2              0\n",
       "NOx              0\n",
       "NH3              0\n",
       "CO               0\n",
       "SO2              0\n",
       "O3               0\n",
       "Benzene          0\n",
       "Toluene          0\n",
       "Xylene           0\n",
       "AQI              0\n",
       "AQI_Bucket    4282\n",
       "dtype: int64"
      ]
     },
     "execution_count": 14,
     "metadata": {},
     "output_type": "execute_result"
    }
   ],
   "source": [
    "med_fill_col=['PM2.5','PM10','NO','NO2','NOx','NH3','CO','SO2','O3','Benzene','Toluene','Xylene','AQI']\n",
    "\n",
    "#skewed features missing values are filled with median value\n",
    "\n",
    "for i in med_fill_col:\n",
    "    city_day[i].fillna(city_day[i].median(),inplace=True)\n",
    "city_day.isnull().sum()        \n",
    "          "
   ]
  },
  {
   "cell_type": "markdown",
   "id": "32339b84",
   "metadata": {},
   "source": [
    "AQI_Bucket filled with moderate "
   ]
  },
  {
   "cell_type": "code",
   "execution_count": 15,
   "id": "d7ae4f1d",
   "metadata": {},
   "outputs": [],
   "source": [
    "city_day['AQI_Bucket']=city_day['AQI_Bucket'].fillna('Moderate')"
   ]
  },
  {
   "cell_type": "code",
   "execution_count": 16,
   "id": "93d05d84",
   "metadata": {},
   "outputs": [
    {
     "data": {
      "text/plain": [
       "City          0\n",
       "Date          0\n",
       "PM2.5         0\n",
       "PM10          0\n",
       "NO            0\n",
       "NO2           0\n",
       "NOx           0\n",
       "NH3           0\n",
       "CO            0\n",
       "SO2           0\n",
       "O3            0\n",
       "Benzene       0\n",
       "Toluene       0\n",
       "Xylene        0\n",
       "AQI           0\n",
       "AQI_Bucket    0\n",
       "dtype: int64"
      ]
     },
     "execution_count": 16,
     "metadata": {},
     "output_type": "execute_result"
    }
   ],
   "source": [
    "city_day.isnull().sum()"
   ]
  },
  {
   "cell_type": "code",
   "execution_count": 17,
   "id": "d5dbe97f",
   "metadata": {},
   "outputs": [],
   "source": [
    "cities=city_day[\"City\"].value_counts()"
   ]
  },
  {
   "cell_type": "code",
   "execution_count": 18,
   "id": "54663cfe",
   "metadata": {},
   "outputs": [
    {
     "name": "stdout",
     "output_type": "stream",
     "text": [
      "Total number of cities in data set:24\n",
      "Index(['Mumbai', 'Bengaluru', 'Lucknow', 'Delhi', 'Ahmedabad', 'Chennai',\n",
      "       'Hyderabad', 'Patna', 'Gurugram', 'Amritsar', 'Jorapokhar', 'Jaipur',\n",
      "       'Thiruvananthapuram', 'Amaravati', 'Brajrajnagar', 'Talcher', 'Kolkata',\n",
      "       'Guwahati', 'Shillong', 'Chandigarh', 'Bhopal', 'Kochi', 'Ernakulam',\n",
      "       'Aizawl'],\n",
      "      dtype='object')\n"
     ]
    }
   ],
   "source": [
    "print(f\"Total number of cities in data set:{len(cities)}\")\n",
    "print(cities.index)"
   ]
  },
  {
   "cell_type": "code",
   "execution_count": 19,
   "id": "803a6eba",
   "metadata": {},
   "outputs": [],
   "source": [
    "df=city_day.copy()"
   ]
  },
  {
   "cell_type": "code",
   "execution_count": 20,
   "id": "04ad1d07",
   "metadata": {},
   "outputs": [
    {
     "data": {
      "text/html": [
       "<div>\n",
       "<style scoped>\n",
       "    .dataframe tbody tr th:only-of-type {\n",
       "        vertical-align: middle;\n",
       "    }\n",
       "\n",
       "    .dataframe tbody tr th {\n",
       "        vertical-align: top;\n",
       "    }\n",
       "\n",
       "    .dataframe thead th {\n",
       "        text-align: right;\n",
       "    }\n",
       "</style>\n",
       "<table border=\"1\" class=\"dataframe\">\n",
       "  <thead>\n",
       "    <tr style=\"text-align: right;\">\n",
       "      <th></th>\n",
       "      <th>City</th>\n",
       "      <th>Date</th>\n",
       "      <th>PM2.5</th>\n",
       "      <th>PM10</th>\n",
       "      <th>NO</th>\n",
       "      <th>NO2</th>\n",
       "      <th>NOx</th>\n",
       "      <th>NH3</th>\n",
       "      <th>CO</th>\n",
       "      <th>SO2</th>\n",
       "      <th>O3</th>\n",
       "      <th>Benzene</th>\n",
       "      <th>Toluene</th>\n",
       "      <th>Xylene</th>\n",
       "      <th>AQI</th>\n",
       "      <th>AQI_Bucket</th>\n",
       "    </tr>\n",
       "  </thead>\n",
       "  <tbody>\n",
       "    <tr>\n",
       "      <th>0</th>\n",
       "      <td>Ahmedabad</td>\n",
       "      <td>2015-01-01</td>\n",
       "      <td>52.22</td>\n",
       "      <td>100.95</td>\n",
       "      <td>0.92</td>\n",
       "      <td>18.22</td>\n",
       "      <td>17.15</td>\n",
       "      <td>17.82</td>\n",
       "      <td>0.92</td>\n",
       "      <td>27.64</td>\n",
       "      <td>133.36</td>\n",
       "      <td>0.00</td>\n",
       "      <td>0.02</td>\n",
       "      <td>0.00</td>\n",
       "      <td>124.0</td>\n",
       "      <td>Moderate</td>\n",
       "    </tr>\n",
       "    <tr>\n",
       "      <th>1</th>\n",
       "      <td>Ahmedabad</td>\n",
       "      <td>2015-01-02</td>\n",
       "      <td>52.22</td>\n",
       "      <td>100.95</td>\n",
       "      <td>0.97</td>\n",
       "      <td>15.69</td>\n",
       "      <td>16.46</td>\n",
       "      <td>17.82</td>\n",
       "      <td>0.97</td>\n",
       "      <td>24.55</td>\n",
       "      <td>34.06</td>\n",
       "      <td>3.68</td>\n",
       "      <td>5.50</td>\n",
       "      <td>3.77</td>\n",
       "      <td>124.0</td>\n",
       "      <td>Moderate</td>\n",
       "    </tr>\n",
       "    <tr>\n",
       "      <th>2</th>\n",
       "      <td>Ahmedabad</td>\n",
       "      <td>2015-01-03</td>\n",
       "      <td>52.22</td>\n",
       "      <td>100.95</td>\n",
       "      <td>17.40</td>\n",
       "      <td>19.30</td>\n",
       "      <td>29.70</td>\n",
       "      <td>17.82</td>\n",
       "      <td>17.40</td>\n",
       "      <td>29.07</td>\n",
       "      <td>30.70</td>\n",
       "      <td>6.80</td>\n",
       "      <td>16.40</td>\n",
       "      <td>2.25</td>\n",
       "      <td>124.0</td>\n",
       "      <td>Moderate</td>\n",
       "    </tr>\n",
       "    <tr>\n",
       "      <th>3</th>\n",
       "      <td>Ahmedabad</td>\n",
       "      <td>2015-01-04</td>\n",
       "      <td>52.22</td>\n",
       "      <td>100.95</td>\n",
       "      <td>1.70</td>\n",
       "      <td>18.48</td>\n",
       "      <td>17.97</td>\n",
       "      <td>17.82</td>\n",
       "      <td>1.70</td>\n",
       "      <td>18.59</td>\n",
       "      <td>36.08</td>\n",
       "      <td>4.43</td>\n",
       "      <td>10.14</td>\n",
       "      <td>1.00</td>\n",
       "      <td>124.0</td>\n",
       "      <td>Moderate</td>\n",
       "    </tr>\n",
       "    <tr>\n",
       "      <th>4</th>\n",
       "      <td>Ahmedabad</td>\n",
       "      <td>2015-01-05</td>\n",
       "      <td>52.22</td>\n",
       "      <td>100.95</td>\n",
       "      <td>22.10</td>\n",
       "      <td>21.42</td>\n",
       "      <td>37.76</td>\n",
       "      <td>17.82</td>\n",
       "      <td>22.10</td>\n",
       "      <td>39.33</td>\n",
       "      <td>39.31</td>\n",
       "      <td>7.01</td>\n",
       "      <td>18.89</td>\n",
       "      <td>2.78</td>\n",
       "      <td>124.0</td>\n",
       "      <td>Moderate</td>\n",
       "    </tr>\n",
       "    <tr>\n",
       "      <th>...</th>\n",
       "      <td>...</td>\n",
       "      <td>...</td>\n",
       "      <td>...</td>\n",
       "      <td>...</td>\n",
       "      <td>...</td>\n",
       "      <td>...</td>\n",
       "      <td>...</td>\n",
       "      <td>...</td>\n",
       "      <td>...</td>\n",
       "      <td>...</td>\n",
       "      <td>...</td>\n",
       "      <td>...</td>\n",
       "      <td>...</td>\n",
       "      <td>...</td>\n",
       "      <td>...</td>\n",
       "      <td>...</td>\n",
       "    </tr>\n",
       "    <tr>\n",
       "      <th>26214</th>\n",
       "      <td>Thiruvananthapuram</td>\n",
       "      <td>2020-04-27</td>\n",
       "      <td>14.13</td>\n",
       "      <td>34.27</td>\n",
       "      <td>5.60</td>\n",
       "      <td>8.98</td>\n",
       "      <td>12.48</td>\n",
       "      <td>5.65</td>\n",
       "      <td>0.49</td>\n",
       "      <td>5.50</td>\n",
       "      <td>42.41</td>\n",
       "      <td>0.98</td>\n",
       "      <td>2.85</td>\n",
       "      <td>0.82</td>\n",
       "      <td>63.0</td>\n",
       "      <td>Satisfactory</td>\n",
       "    </tr>\n",
       "    <tr>\n",
       "      <th>26215</th>\n",
       "      <td>Thiruvananthapuram</td>\n",
       "      <td>2020-04-28</td>\n",
       "      <td>23.84</td>\n",
       "      <td>44.32</td>\n",
       "      <td>6.27</td>\n",
       "      <td>10.01</td>\n",
       "      <td>13.80</td>\n",
       "      <td>5.73</td>\n",
       "      <td>0.44</td>\n",
       "      <td>5.62</td>\n",
       "      <td>44.55</td>\n",
       "      <td>0.98</td>\n",
       "      <td>2.85</td>\n",
       "      <td>0.82</td>\n",
       "      <td>60.0</td>\n",
       "      <td>Satisfactory</td>\n",
       "    </tr>\n",
       "    <tr>\n",
       "      <th>26216</th>\n",
       "      <td>Thiruvananthapuram</td>\n",
       "      <td>2020-04-29</td>\n",
       "      <td>18.54</td>\n",
       "      <td>34.48</td>\n",
       "      <td>6.17</td>\n",
       "      <td>9.67</td>\n",
       "      <td>13.35</td>\n",
       "      <td>5.93</td>\n",
       "      <td>0.51</td>\n",
       "      <td>5.52</td>\n",
       "      <td>38.97</td>\n",
       "      <td>0.98</td>\n",
       "      <td>2.85</td>\n",
       "      <td>0.82</td>\n",
       "      <td>57.0</td>\n",
       "      <td>Satisfactory</td>\n",
       "    </tr>\n",
       "    <tr>\n",
       "      <th>26217</th>\n",
       "      <td>Thiruvananthapuram</td>\n",
       "      <td>2020-04-30</td>\n",
       "      <td>20.57</td>\n",
       "      <td>48.19</td>\n",
       "      <td>6.28</td>\n",
       "      <td>9.52</td>\n",
       "      <td>13.56</td>\n",
       "      <td>5.84</td>\n",
       "      <td>0.46</td>\n",
       "      <td>5.32</td>\n",
       "      <td>39.23</td>\n",
       "      <td>0.98</td>\n",
       "      <td>2.85</td>\n",
       "      <td>0.82</td>\n",
       "      <td>57.0</td>\n",
       "      <td>Satisfactory</td>\n",
       "    </tr>\n",
       "    <tr>\n",
       "      <th>26218</th>\n",
       "      <td>Thiruvananthapuram</td>\n",
       "      <td>2020-05-01</td>\n",
       "      <td>17.58</td>\n",
       "      <td>37.49</td>\n",
       "      <td>2.56</td>\n",
       "      <td>7.84</td>\n",
       "      <td>9.34</td>\n",
       "      <td>4.85</td>\n",
       "      <td>0.45</td>\n",
       "      <td>7.10</td>\n",
       "      <td>31.16</td>\n",
       "      <td>0.98</td>\n",
       "      <td>2.85</td>\n",
       "      <td>0.82</td>\n",
       "      <td>82.0</td>\n",
       "      <td>Satisfactory</td>\n",
       "    </tr>\n",
       "  </tbody>\n",
       "</table>\n",
       "<p>26219 rows × 16 columns</p>\n",
       "</div>"
      ],
      "text/plain": [
       "                     City        Date  PM2.5    PM10     NO    NO2    NOx  \\\n",
       "0               Ahmedabad  2015-01-01  52.22  100.95   0.92  18.22  17.15   \n",
       "1               Ahmedabad  2015-01-02  52.22  100.95   0.97  15.69  16.46   \n",
       "2               Ahmedabad  2015-01-03  52.22  100.95  17.40  19.30  29.70   \n",
       "3               Ahmedabad  2015-01-04  52.22  100.95   1.70  18.48  17.97   \n",
       "4               Ahmedabad  2015-01-05  52.22  100.95  22.10  21.42  37.76   \n",
       "...                   ...         ...    ...     ...    ...    ...    ...   \n",
       "26214  Thiruvananthapuram  2020-04-27  14.13   34.27   5.60   8.98  12.48   \n",
       "26215  Thiruvananthapuram  2020-04-28  23.84   44.32   6.27  10.01  13.80   \n",
       "26216  Thiruvananthapuram  2020-04-29  18.54   34.48   6.17   9.67  13.35   \n",
       "26217  Thiruvananthapuram  2020-04-30  20.57   48.19   6.28   9.52  13.56   \n",
       "26218  Thiruvananthapuram  2020-05-01  17.58   37.49   2.56   7.84   9.34   \n",
       "\n",
       "         NH3     CO    SO2      O3  Benzene  Toluene  Xylene    AQI  \\\n",
       "0      17.82   0.92  27.64  133.36     0.00     0.02    0.00  124.0   \n",
       "1      17.82   0.97  24.55   34.06     3.68     5.50    3.77  124.0   \n",
       "2      17.82  17.40  29.07   30.70     6.80    16.40    2.25  124.0   \n",
       "3      17.82   1.70  18.59   36.08     4.43    10.14    1.00  124.0   \n",
       "4      17.82  22.10  39.33   39.31     7.01    18.89    2.78  124.0   \n",
       "...      ...    ...    ...     ...      ...      ...     ...    ...   \n",
       "26214   5.65   0.49   5.50   42.41     0.98     2.85    0.82   63.0   \n",
       "26215   5.73   0.44   5.62   44.55     0.98     2.85    0.82   60.0   \n",
       "26216   5.93   0.51   5.52   38.97     0.98     2.85    0.82   57.0   \n",
       "26217   5.84   0.46   5.32   39.23     0.98     2.85    0.82   57.0   \n",
       "26218   4.85   0.45   7.10   31.16     0.98     2.85    0.82   82.0   \n",
       "\n",
       "         AQI_Bucket  \n",
       "0          Moderate  \n",
       "1          Moderate  \n",
       "2          Moderate  \n",
       "3          Moderate  \n",
       "4          Moderate  \n",
       "...             ...  \n",
       "26214  Satisfactory  \n",
       "26215  Satisfactory  \n",
       "26216  Satisfactory  \n",
       "26217  Satisfactory  \n",
       "26218  Satisfactory  \n",
       "\n",
       "[26219 rows x 16 columns]"
      ]
     },
     "execution_count": 20,
     "metadata": {},
     "output_type": "execute_result"
    }
   ],
   "source": [
    "df"
   ]
  },
  {
   "cell_type": "code",
   "execution_count": 21,
   "id": "51f10351",
   "metadata": {},
   "outputs": [
    {
     "data": {
      "text/plain": [
       "(26219, 16)"
      ]
     },
     "execution_count": 21,
     "metadata": {},
     "output_type": "execute_result"
    }
   ],
   "source": [
    "df.shape"
   ]
  },
  {
   "cell_type": "markdown",
   "id": "b7dbb666",
   "metadata": {},
   "source": [
    "# b. Check for outliers"
   ]
  },
  {
   "cell_type": "code",
   "execution_count": 22,
   "id": "30b74435",
   "metadata": {},
   "outputs": [
    {
     "name": "stderr",
     "output_type": "stream",
     "text": [
      "F:\\ANACONDA\\lib\\site-packages\\seaborn\\_decorators.py:36: FutureWarning: Pass the following variable as a keyword arg: x. From version 0.12, the only valid positional argument will be `data`, and passing other arguments without an explicit keyword will result in an error or misinterpretation.\n",
      "  warnings.warn(\n"
     ]
    },
    {
     "data": {
      "text/plain": [
       "<AxesSubplot:xlabel='CO'>"
      ]
     },
     "execution_count": 22,
     "metadata": {},
     "output_type": "execute_result"
    },
    {
     "data": {
      "image/png": "[encoded data removed]",
      "text/plain": [
       "<Figure size 432x288 with 1 Axes>"
      ]
     },
     "metadata": {
      "needs_background": "light"
     },
     "output_type": "display_data"
    }
   ],
   "source": [
    "sns.boxplot(df['CO'])"
   ]
  },
  {
   "cell_type": "code",
   "execution_count": 23,
   "id": "d9635352",
   "metadata": {},
   "outputs": [
    {
     "name": "stdout",
     "output_type": "stream",
     "text": [
      "2549 outliers found in the 'CO' values\n"
     ]
    }
   ],
   "source": [
    "Q1=np.percentile(df['CO'],25,interpolation=\"midpoint\")\n",
    "Q3=np.percentile(df['CO'],75,interpolation=\"midpoint\")\n",
    "IQR=Q3-Q1\n",
    "low_lim=Q1-1.5*IQR\n",
    "up_lim=Q3+1.5*IQR\n",
    "\n",
    "outlier=[]\n",
    "for x in df['CO']:\n",
    "    if(x>up_lim)or(x<low_lim):\n",
    "        outlier.append(x)\n",
    "print(len(outlier), \"outliers found in the 'CO' values\")\n",
    "\n"
   ]
  },
  {
   "cell_type": "code",
   "execution_count": 24,
   "id": "7f5d9427",
   "metadata": {},
   "outputs": [
    {
     "name": "stderr",
     "output_type": "stream",
     "text": [
      "F:\\ANACONDA\\lib\\site-packages\\seaborn\\_decorators.py:36: FutureWarning: Pass the following variable as a keyword arg: x. From version 0.12, the only valid positional argument will be `data`, and passing other arguments without an explicit keyword will result in an error or misinterpretation.\n",
      "  warnings.warn(\n"
     ]
    },
    {
     "data": {
      "text/plain": [
       "Text(0.5, 1.0, \"Boxplot of the 'CO' values after treating the outliers\")"
      ]
     },
     "execution_count": 24,
     "metadata": {},
     "output_type": "execute_result"
    },
    {
     "data": {
      "image/png": "[encoded data removed]",
      "text/plain": [
       "<Figure size 432x288 with 1 Axes>"
      ]
     },
     "metadata": {
      "needs_background": "light"
     },
     "output_type": "display_data"
    }
   ],
   "source": [
    "# Computing 90th percentiles and replacing the outliers\n",
    "ninetieth_percentile = int(np.percentile(df['CO'], 90))\n",
    "\n",
    "# the values above 90th percentile are replaced with 90th percentile value\n",
    "df['CO'] = np.where(df['CO']>ninetieth_percentile, ninetieth_percentile, df['CO'])\n",
    "\n",
    "sns.boxplot(df['CO'])\n",
    "plt.title(\"Boxplot of the 'CO' values after treating the outliers\")"
   ]
  },
  {
   "cell_type": "code",
   "execution_count": 25,
   "id": "a1de74e6",
   "metadata": {},
   "outputs": [
    {
     "name": "stderr",
     "output_type": "stream",
     "text": [
      "F:\\ANACONDA\\lib\\site-packages\\seaborn\\_decorators.py:36: FutureWarning: Pass the following variable as a keyword arg: x. From version 0.12, the only valid positional argument will be `data`, and passing other arguments without an explicit keyword will result in an error or misinterpretation.\n",
      "  warnings.warn(\n"
     ]
    },
    {
     "data": {
      "text/plain": [
       "<AxesSubplot:xlabel='NO'>"
      ]
     },
     "execution_count": 25,
     "metadata": {},
     "output_type": "execute_result"
    },
    {
     "data": {
      "image/png": "[encoded data removed]",
      "text/plain": [
       "<Figure size 432x288 with 1 Axes>"
      ]
     },
     "metadata": {
      "needs_background": "light"
     },
     "output_type": "display_data"
    }
   ],
   "source": [
    "sns.boxplot(df['NO'])"
   ]
  },
  {
   "cell_type": "code",
   "execution_count": 26,
   "id": "31686247",
   "metadata": {},
   "outputs": [
    {
     "name": "stdout",
     "output_type": "stream",
     "text": [
      "2918 outliers found in the 'NO' values\n"
     ]
    }
   ],
   "source": [
    "Q1=np.percentile(df['NO'],25,interpolation=\"midpoint\")\n",
    "Q3=np.percentile(df['NO'],75,interpolation=\"midpoint\")\n",
    "IQR=Q3-Q1\n",
    "low_lim=Q1-1.5*IQR\n",
    "up_lim=Q3+1.5*IQR\n",
    "\n",
    "outlier=[]\n",
    "for x in df['NO']:\n",
    "    if(x>up_lim)or(x<low_lim):\n",
    "        outlier.append(x)\n",
    "print(len(outlier), \"outliers found in the 'NO' values\")\n"
   ]
  },
  {
   "cell_type": "code",
   "execution_count": 27,
   "id": "7535a111",
   "metadata": {},
   "outputs": [
    {
     "name": "stderr",
     "output_type": "stream",
     "text": [
      "F:\\ANACONDA\\lib\\site-packages\\seaborn\\_decorators.py:36: FutureWarning: Pass the following variable as a keyword arg: x. From version 0.12, the only valid positional argument will be `data`, and passing other arguments without an explicit keyword will result in an error or misinterpretation.\n",
      "  warnings.warn(\n"
     ]
    },
    {
     "data": {
      "text/plain": [
       "Text(0.5, 1.0, \"Boxplot of the 'NO' values after treating the outliers\")"
      ]
     },
     "execution_count": 27,
     "metadata": {},
     "output_type": "execute_result"
    },
    {
     "data": {
      "image/png": "[encoded data removed]",
      "text/plain": [
       "<Figure size 432x288 with 1 Axes>"
      ]
     },
     "metadata": {
      "needs_background": "light"
     },
     "output_type": "display_data"
    }
   ],
   "source": [
    "# Computing 90th percentiles and replacing the outliers\n",
    "ninetieth_percentile = int(np.percentile(df['NO'], 90))\n",
    "\n",
    "# the values above 90th percentile are replaced with 90th percentile value\n",
    "df['NO'] = np.where(df['NO']>ninetieth_percentile, ninetieth_percentile, df['NO'])\n",
    "\n",
    "sns.boxplot(df['NO'])\n",
    "plt.title(\"Boxplot of the 'NO' values after treating the outliers\")"
   ]
  },
  {
   "cell_type": "code",
   "execution_count": 28,
   "id": "793ba58c",
   "metadata": {},
   "outputs": [
    {
     "data": {
      "text/plain": [
       "Index(['City', 'Date', 'PM2.5', 'PM10', 'NO', 'NO2', 'NOx', 'NH3', 'CO', 'SO2',\n",
       "       'O3', 'Benzene', 'Toluene', 'Xylene', 'AQI', 'AQI_Bucket'],\n",
       "      dtype='object')"
      ]
     },
     "execution_count": 28,
     "metadata": {},
     "output_type": "execute_result"
    }
   ],
   "source": [
    "df.columns\n"
   ]
  },
  {
   "cell_type": "code",
   "execution_count": 29,
   "id": "8624136c",
   "metadata": {},
   "outputs": [
    {
     "name": "stderr",
     "output_type": "stream",
     "text": [
      "F:\\ANACONDA\\lib\\site-packages\\seaborn\\_decorators.py:36: FutureWarning: Pass the following variable as a keyword arg: x. From version 0.12, the only valid positional argument will be `data`, and passing other arguments without an explicit keyword will result in an error or misinterpretation.\n",
      "  warnings.warn(\n"
     ]
    },
    {
     "data": {
      "text/plain": [
       "<AxesSubplot:xlabel='NO2'>"
      ]
     },
     "execution_count": 29,
     "metadata": {},
     "output_type": "execute_result"
    },
    {
     "data": {
      "image/png": "[encoded data removed]",
      "text/plain": [
       "<Figure size 432x288 with 1 Axes>"
      ]
     },
     "metadata": {
      "needs_background": "light"
     },
     "output_type": "display_data"
    }
   ],
   "source": [
    "sns.boxplot(df['NO2'])"
   ]
  },
  {
   "cell_type": "code",
   "execution_count": 30,
   "id": "ac08f17d",
   "metadata": {},
   "outputs": [
    {
     "name": "stdout",
     "output_type": "stream",
     "text": [
      "1645 outliers found in the 'NO2' values\n"
     ]
    }
   ],
   "source": [
    "Q1=np.percentile(df['NO2'],25,interpolation=\"midpoint\")\n",
    "Q3=np.percentile(df['NO2'],75,interpolation=\"midpoint\")\n",
    "IQR=Q3-Q1\n",
    "low_lim=Q1-1.5*IQR\n",
    "up_lim=Q3+1.5*IQR\n",
    "\n",
    "outlier=[]\n",
    "for x in df['NO2']:\n",
    "    if(x>up_lim)or(x<low_lim):\n",
    "        outlier.append(x)\n",
    "print(len(outlier), \"outliers found in the 'NO2' values\")"
   ]
  },
  {
   "cell_type": "code",
   "execution_count": 31,
   "id": "723db4bb",
   "metadata": {},
   "outputs": [
    {
     "name": "stderr",
     "output_type": "stream",
     "text": [
      "F:\\ANACONDA\\lib\\site-packages\\seaborn\\_decorators.py:36: FutureWarning: Pass the following variable as a keyword arg: x. From version 0.12, the only valid positional argument will be `data`, and passing other arguments without an explicit keyword will result in an error or misinterpretation.\n",
      "  warnings.warn(\n"
     ]
    },
    {
     "data": {
      "text/plain": [
       "Text(0.5, 1.0, \"Boxplot of the 'NO2' values after treating the outliers\")"
      ]
     },
     "execution_count": 31,
     "metadata": {},
     "output_type": "execute_result"
    },
    {
     "data": {
      "image/png": "[encoded data removed]",
      "text/plain": [
       "<Figure size 432x288 with 1 Axes>"
      ]
     },
     "metadata": {
      "needs_background": "light"
     },
     "output_type": "display_data"
    }
   ],
   "source": [
    "# Computing 90th percentiles and replacing the outliers\n",
    "ninetieth_percentile = int(np.percentile(df['NO2'], 90))\n",
    "\n",
    "# the values above 90th percentile are replaced with 90th percentile value\n",
    "df['NO2'] = np.where(df['NO2']>ninetieth_percentile, ninetieth_percentile, df['NO2'])\n",
    "\n",
    "sns.boxplot(df['NO2'])\n",
    "plt.title(\"Boxplot of the 'NO2' values after treating the outliers\")"
   ]
  },
  {
   "cell_type": "code",
   "execution_count": 32,
   "id": "d735b0fb",
   "metadata": {},
   "outputs": [
    {
     "name": "stderr",
     "output_type": "stream",
     "text": [
      "F:\\ANACONDA\\lib\\site-packages\\seaborn\\_decorators.py:36: FutureWarning: Pass the following variable as a keyword arg: x. From version 0.12, the only valid positional argument will be `data`, and passing other arguments without an explicit keyword will result in an error or misinterpretation.\n",
      "  warnings.warn(\n"
     ]
    },
    {
     "data": {
      "text/plain": [
       "<AxesSubplot:xlabel='NOx'>"
      ]
     },
     "execution_count": 32,
     "metadata": {},
     "output_type": "execute_result"
    },
    {
     "data": {
      "image/png": "[encoded data removed]",
      "text/plain": [
       "<Figure size 432x288 with 1 Axes>"
      ]
     },
     "metadata": {
      "needs_background": "light"
     },
     "output_type": "display_data"
    }
   ],
   "source": [
    "sns.boxplot(df['NOx'])"
   ]
  },
  {
   "cell_type": "code",
   "execution_count": 33,
   "id": "f5b1d8aa",
   "metadata": {},
   "outputs": [
    {
     "name": "stdout",
     "output_type": "stream",
     "text": [
      "2389 outliers found in the 'NOx' values\n"
     ]
    }
   ],
   "source": [
    "Q1=np.percentile(df['NOx'],25,interpolation=\"midpoint\")\n",
    "Q3=np.percentile(df['NOx'],75,interpolation=\"midpoint\")\n",
    "IQR=Q3-Q1\n",
    "low_lim=Q1-1.5*IQR\n",
    "up_lim=Q3+1.5*IQR\n",
    "\n",
    "outlier=[]\n",
    "for x in df['NOx']:\n",
    "    if(x>up_lim)or(x<low_lim):\n",
    "        outlier.append(x)\n",
    "print(len(outlier), \"outliers found in the 'NOx' values\")"
   ]
  },
  {
   "cell_type": "code",
   "execution_count": 34,
   "id": "ef6c48c7",
   "metadata": {},
   "outputs": [
    {
     "name": "stderr",
     "output_type": "stream",
     "text": [
      "F:\\ANACONDA\\lib\\site-packages\\seaborn\\_decorators.py:36: FutureWarning: Pass the following variable as a keyword arg: x. From version 0.12, the only valid positional argument will be `data`, and passing other arguments without an explicit keyword will result in an error or misinterpretation.\n",
      "  warnings.warn(\n"
     ]
    },
    {
     "data": {
      "text/plain": [
       "Text(0.5, 1.0, \"Boxplot of the 'NOx' values after treating the outliers\")"
      ]
     },
     "execution_count": 34,
     "metadata": {},
     "output_type": "execute_result"
    },
    {
     "data": {
      "image/png": "[encoded data removed]",
      "text/plain": [
       "<Figure size 432x288 with 1 Axes>"
      ]
     },
     "metadata": {
      "needs_background": "light"
     },
     "output_type": "display_data"
    }
   ],
   "source": [
    "# Computing 90th percentiles and replacing the outliers\n",
    "ninetieth_percentile = int(np.percentile(df['NOx'], 90))\n",
    "\n",
    "# the values above 90th percentile are replaced with 90th percentile value\n",
    "df['NOx'] = np.where(df['NOx']>ninetieth_percentile, ninetieth_percentile, df['NOx'])\n",
    "\n",
    "sns.boxplot(df['NOx'])\n",
    "plt.title(\"Boxplot of the 'NOx' values after treating the outliers\")"
   ]
  },
  {
   "cell_type": "code",
   "execution_count": 35,
   "id": "fc545d37",
   "metadata": {},
   "outputs": [
    {
     "name": "stderr",
     "output_type": "stream",
     "text": [
      "F:\\ANACONDA\\lib\\site-packages\\seaborn\\_decorators.py:36: FutureWarning: Pass the following variable as a keyword arg: x. From version 0.12, the only valid positional argument will be `data`, and passing other arguments without an explicit keyword will result in an error or misinterpretation.\n",
      "  warnings.warn(\n"
     ]
    },
    {
     "data": {
      "text/plain": [
       "<AxesSubplot:xlabel='NH3'>"
      ]
     },
     "execution_count": 35,
     "metadata": {},
     "output_type": "execute_result"
    },
    {
     "data": {
      "image/png": "[encoded data removed]",
      "text/plain": [
       "<Figure size 432x288 with 1 Axes>"
      ]
     },
     "metadata": {
      "needs_background": "light"
     },
     "output_type": "display_data"
    }
   ],
   "source": [
    "sns.boxplot(df['NH3'])"
   ]
  },
  {
   "cell_type": "code",
   "execution_count": 36,
   "id": "3b7f86d1",
   "metadata": {},
   "outputs": [
    {
     "name": "stdout",
     "output_type": "stream",
     "text": [
      "3268 outliers found in the 'NH3' values\n"
     ]
    }
   ],
   "source": [
    "Q1=np.percentile(df['NH3'],25,interpolation=\"midpoint\")\n",
    "Q3=np.percentile(df['NH3'],75,interpolation=\"midpoint\")\n",
    "IQR=Q3-Q1\n",
    "low_lim=Q1-1.5*IQR\n",
    "up_lim=Q3+1.5*IQR\n",
    "\n",
    "outlier=[]\n",
    "for x in df['NH3']:\n",
    "    if(x>up_lim)or(x<low_lim):\n",
    "        outlier.append(x)\n",
    "print(len(outlier), \"outliers found in the 'NH3' values\")"
   ]
  },
  {
   "cell_type": "code",
   "execution_count": 37,
   "id": "d96d8d7c",
   "metadata": {},
   "outputs": [
    {
     "name": "stderr",
     "output_type": "stream",
     "text": [
      "F:\\ANACONDA\\lib\\site-packages\\seaborn\\_decorators.py:36: FutureWarning: Pass the following variable as a keyword arg: x. From version 0.12, the only valid positional argument will be `data`, and passing other arguments without an explicit keyword will result in an error or misinterpretation.\n",
      "  warnings.warn(\n"
     ]
    },
    {
     "data": {
      "text/plain": [
       "Text(0.5, 1.0, \"Boxplot of the 'NH3' values after treating the outliers\")"
      ]
     },
     "execution_count": 37,
     "metadata": {},
     "output_type": "execute_result"
    },
    {
     "data": {
      "image/png": "[encoded data removed]",
      "text/plain": [
       "<Figure size 432x288 with 1 Axes>"
      ]
     },
     "metadata": {
      "needs_background": "light"
     },
     "output_type": "display_data"
    }
   ],
   "source": [
    "# Computing 90th percentiles and replacing the outliers\n",
    "ninetieth_percentile = int(np.percentile(df['NH3'], 90))\n",
    "\n",
    "# the values above 90th percentile are replaced with 90th percentile value\n",
    "df['NH3'] = np.where(df['NH3']>ninetieth_percentile, ninetieth_percentile, df['NH3'])\n",
    "\n",
    "sns.boxplot(df['NH3'])\n",
    "plt.title(\"Boxplot of the 'NH3' values after treating the outliers\")"
   ]
  },
  {
   "cell_type": "code",
   "execution_count": 38,
   "id": "623edaae",
   "metadata": {},
   "outputs": [
    {
     "name": "stderr",
     "output_type": "stream",
     "text": [
      "F:\\ANACONDA\\lib\\site-packages\\seaborn\\_decorators.py:36: FutureWarning: Pass the following variable as a keyword arg: x. From version 0.12, the only valid positional argument will be `data`, and passing other arguments without an explicit keyword will result in an error or misinterpretation.\n",
      "  warnings.warn(\n"
     ]
    },
    {
     "data": {
      "text/plain": [
       "<AxesSubplot:xlabel='SO2'>"
      ]
     },
     "execution_count": 38,
     "metadata": {},
     "output_type": "execute_result"
    },
    {
     "data": {
      "image/png": "[encoded data removed]",
      "text/plain": [
       "<Figure size 432x288 with 1 Axes>"
      ]
     },
     "metadata": {
      "needs_background": "light"
     },
     "output_type": "display_data"
    }
   ],
   "source": [
    "sns.boxplot(df['SO2'])"
   ]
  },
  {
   "cell_type": "code",
   "execution_count": 39,
   "id": "3d8133da",
   "metadata": {},
   "outputs": [
    {
     "name": "stdout",
     "output_type": "stream",
     "text": [
      "2933 outliers found in the 'SO2' values\n"
     ]
    }
   ],
   "source": [
    "Q1=np.percentile(df['SO2'],25,interpolation=\"midpoint\")\n",
    "Q3=np.percentile(df['SO2'],75,interpolation=\"midpoint\")\n",
    "IQR=Q3-Q1\n",
    "low_lim=Q1-1.5*IQR\n",
    "up_lim=Q3+1.5*IQR\n",
    "\n",
    "outlier=[]\n",
    "for x in df['SO2']:\n",
    "    if(x>up_lim)or(x<low_lim):\n",
    "        outlier.append(x)\n",
    "print(len(outlier), \"outliers found in the 'SO2' values\")"
   ]
  },
  {
   "cell_type": "code",
   "execution_count": 40,
   "id": "46c3a30c",
   "metadata": {},
   "outputs": [
    {
     "name": "stderr",
     "output_type": "stream",
     "text": [
      "F:\\ANACONDA\\lib\\site-packages\\seaborn\\_decorators.py:36: FutureWarning: Pass the following variable as a keyword arg: x. From version 0.12, the only valid positional argument will be `data`, and passing other arguments without an explicit keyword will result in an error or misinterpretation.\n",
      "  warnings.warn(\n"
     ]
    },
    {
     "data": {
      "text/plain": [
       "Text(0.5, 1.0, \"Boxplot of the 'SO2' values after treating the outliers\")"
      ]
     },
     "execution_count": 40,
     "metadata": {},
     "output_type": "execute_result"
    },
    {
     "data": {
      "image/png": "[encoded data removed]",
      "text/plain": [
       "<Figure size 432x288 with 1 Axes>"
      ]
     },
     "metadata": {
      "needs_background": "light"
     },
     "output_type": "display_data"
    }
   ],
   "source": [
    "# Computing 90th percentiles and replacing the outliers\n",
    "ninetieth_percentile = int(np.percentile(df['SO2'], 90))\n",
    "\n",
    "# the values above 90th percentile are replaced with 90th percentile value\n",
    "df['SO2'] = np.where(df['SO2']>ninetieth_percentile, ninetieth_percentile, df['SO2'])\n",
    "\n",
    "sns.boxplot(df['SO2'])\n",
    "plt.title(\"Boxplot of the 'SO2' values after treating the outliers\")"
   ]
  },
  {
   "cell_type": "code",
   "execution_count": 41,
   "id": "e1b2e252",
   "metadata": {},
   "outputs": [
    {
     "name": "stderr",
     "output_type": "stream",
     "text": [
      "F:\\ANACONDA\\lib\\site-packages\\seaborn\\_decorators.py:36: FutureWarning: Pass the following variable as a keyword arg: x. From version 0.12, the only valid positional argument will be `data`, and passing other arguments without an explicit keyword will result in an error or misinterpretation.\n",
      "  warnings.warn(\n"
     ]
    },
    {
     "data": {
      "text/plain": [
       "<AxesSubplot:xlabel='O3'>"
      ]
     },
     "execution_count": 41,
     "metadata": {},
     "output_type": "execute_result"
    },
    {
     "data": {
      "image/png": "[encoded data removed]",
      "text/plain": [
       "<Figure size 432x288 with 1 Axes>"
      ]
     },
     "metadata": {
      "needs_background": "light"
     },
     "output_type": "display_data"
    }
   ],
   "source": [
    "sns.boxplot(df['O3'])"
   ]
  },
  {
   "cell_type": "code",
   "execution_count": 42,
   "id": "403c4089",
   "metadata": {},
   "outputs": [
    {
     "name": "stdout",
     "output_type": "stream",
     "text": [
      "1017 outliers found in the 'O3' values\n"
     ]
    }
   ],
   "source": [
    "Q1=np.percentile(df['O3'],25,interpolation=\"midpoint\")\n",
    "Q3=np.percentile(df['O3'],75,interpolation=\"midpoint\")\n",
    "IQR=Q3-Q1\n",
    "low_lim=Q1-1.5*IQR\n",
    "up_lim=Q3+1.5*IQR\n",
    "\n",
    "outlier=[]\n",
    "for x in df['O3']:\n",
    "    if(x>up_lim)or(x<low_lim):\n",
    "        outlier.append(x)\n",
    "print(len(outlier), \"outliers found in the 'O3' values\")"
   ]
  },
  {
   "cell_type": "code",
   "execution_count": 43,
   "id": "143f9df4",
   "metadata": {},
   "outputs": [
    {
     "name": "stderr",
     "output_type": "stream",
     "text": [
      "F:\\ANACONDA\\lib\\site-packages\\seaborn\\_decorators.py:36: FutureWarning: Pass the following variable as a keyword arg: x. From version 0.12, the only valid positional argument will be `data`, and passing other arguments without an explicit keyword will result in an error or misinterpretation.\n",
      "  warnings.warn(\n"
     ]
    },
    {
     "data": {
      "text/plain": [
       "Text(0.5, 1.0, \"Boxplot of the 'O3' values after treating the outliers\")"
      ]
     },
     "execution_count": 43,
     "metadata": {},
     "output_type": "execute_result"
    },
    {
     "data": {
      "image/png": "[encoded data removed]",
      "text/plain": [
       "<Figure size 432x288 with 1 Axes>"
      ]
     },
     "metadata": {
      "needs_background": "light"
     },
     "output_type": "display_data"
    }
   ],
   "source": [
    "# Computing 90th percentiles and replacing the outliers\n",
    "ninetieth_percentile = int(np.percentile(df['O3'], 90))\n",
    "\n",
    "# the values above 90th percentile are replaced with 90th percentile value\n",
    "df['O3'] = np.where(df['O3']>ninetieth_percentile, ninetieth_percentile, df['O3'])\n",
    "\n",
    "sns.boxplot(df['O3'])\n",
    "plt.title(\"Boxplot of the 'O3' values after treating the outliers\")"
   ]
  },
  {
   "cell_type": "code",
   "execution_count": 44,
   "id": "d684bbda",
   "metadata": {},
   "outputs": [
    {
     "name": "stderr",
     "output_type": "stream",
     "text": [
      "F:\\ANACONDA\\lib\\site-packages\\seaborn\\_decorators.py:36: FutureWarning: Pass the following variable as a keyword arg: x. From version 0.12, the only valid positional argument will be `data`, and passing other arguments without an explicit keyword will result in an error or misinterpretation.\n",
      "  warnings.warn(\n"
     ]
    },
    {
     "data": {
      "text/plain": [
       "<AxesSubplot:xlabel='Benzene'>"
      ]
     },
     "execution_count": 44,
     "metadata": {},
     "output_type": "execute_result"
    },
    {
     "data": {
      "image/png": "[encoded data removed]",
      "text/plain": [
       "<Figure size 432x288 with 1 Axes>"
      ]
     },
     "metadata": {
      "needs_background": "light"
     },
     "output_type": "display_data"
    }
   ],
   "source": [
    "sns.boxplot(df['Benzene'])"
   ]
  },
  {
   "cell_type": "code",
   "execution_count": 45,
   "id": "f8ae84e2",
   "metadata": {},
   "outputs": [
    {
     "name": "stdout",
     "output_type": "stream",
     "text": [
      "2608 outliers found in the 'Benzene' values\n"
     ]
    }
   ],
   "source": [
    "Q1=np.percentile(df['Benzene'],25,interpolation=\"midpoint\")\n",
    "Q3=np.percentile(df['Benzene'],75,interpolation=\"midpoint\")\n",
    "IQR=Q3-Q1\n",
    "low_lim=Q1-1.5*IQR\n",
    "up_lim=Q3+1.5*IQR\n",
    "\n",
    "outlier=[]\n",
    "for x in df['Benzene']:\n",
    "    if(x>up_lim)or(x<low_lim):\n",
    "        outlier.append(x)\n",
    "print(len(outlier), \"outliers found in the 'Benzene' values\")"
   ]
  },
  {
   "cell_type": "code",
   "execution_count": 46,
   "id": "1800a65e",
   "metadata": {},
   "outputs": [
    {
     "name": "stderr",
     "output_type": "stream",
     "text": [
      "F:\\ANACONDA\\lib\\site-packages\\seaborn\\_decorators.py:36: FutureWarning: Pass the following variable as a keyword arg: x. From version 0.12, the only valid positional argument will be `data`, and passing other arguments without an explicit keyword will result in an error or misinterpretation.\n",
      "  warnings.warn(\n"
     ]
    },
    {
     "data": {
      "text/plain": [
       "Text(0.5, 1.0, \"Boxplot of the 'Benzene' values after treating the outliers\")"
      ]
     },
     "execution_count": 46,
     "metadata": {},
     "output_type": "execute_result"
    },
    {
     "data": {
      "image/png": "[encoded data removed]",
      "text/plain": [
       "<Figure size 432x288 with 1 Axes>"
      ]
     },
     "metadata": {
      "needs_background": "light"
     },
     "output_type": "display_data"
    }
   ],
   "source": [
    "# Computing 90th percentiles and replacing the outliers\n",
    "ninetieth_percentile = int(np.percentile(df['Benzene'], 90))\n",
    "\n",
    "# the values above 90th percentile are replaced with 90th percentile value\n",
    "df['Benzene'] = np.where(df['Benzene']>ninetieth_percentile, ninetieth_percentile, df['Benzene'])\n",
    "\n",
    "sns.boxplot(df['Benzene'])\n",
    "plt.title(\"Boxplot of the 'Benzene' values after treating the outliers\")"
   ]
  },
  {
   "cell_type": "code",
   "execution_count": 47,
   "id": "9bede11c",
   "metadata": {},
   "outputs": [
    {
     "name": "stderr",
     "output_type": "stream",
     "text": [
      "F:\\ANACONDA\\lib\\site-packages\\seaborn\\_decorators.py:36: FutureWarning: Pass the following variable as a keyword arg: x. From version 0.12, the only valid positional argument will be `data`, and passing other arguments without an explicit keyword will result in an error or misinterpretation.\n",
      "  warnings.warn(\n"
     ]
    },
    {
     "data": {
      "text/plain": [
       "<AxesSubplot:xlabel='Toluene'>"
      ]
     },
     "execution_count": 47,
     "metadata": {},
     "output_type": "execute_result"
    },
    {
     "data": {
      "image/png": "[encoded data removed]",
      "text/plain": [
       "<Figure size 432x288 with 1 Axes>"
      ]
     },
     "metadata": {
      "needs_background": "light"
     },
     "output_type": "display_data"
    }
   ],
   "source": [
    "sns.boxplot(df['Toluene' ])"
   ]
  },
  {
   "cell_type": "code",
   "execution_count": 48,
   "id": "46eb38c1",
   "metadata": {},
   "outputs": [
    {
     "name": "stdout",
     "output_type": "stream",
     "text": [
      "3664 outliers found in the 'Toluene' values\n"
     ]
    }
   ],
   "source": [
    "Q1=np.percentile(df['Toluene'],25,interpolation=\"midpoint\")\n",
    "Q3=np.percentile(df['Toluene'],75,interpolation=\"midpoint\")\n",
    "IQR=Q3-Q1\n",
    "low_lim=Q1-1.5*IQR\n",
    "up_lim=Q3+1.5*IQR\n",
    "\n",
    "outlier=[]\n",
    "for x in df['Toluene']:\n",
    "    if(x>up_lim)or(x<low_lim):\n",
    "        outlier.append(x)\n",
    "print(len(outlier), \"outliers found in the 'Toluene' values\")"
   ]
  },
  {
   "cell_type": "code",
   "execution_count": 49,
   "id": "255d46ba",
   "metadata": {},
   "outputs": [
    {
     "name": "stderr",
     "output_type": "stream",
     "text": [
      "F:\\ANACONDA\\lib\\site-packages\\seaborn\\_decorators.py:36: FutureWarning: Pass the following variable as a keyword arg: x. From version 0.12, the only valid positional argument will be `data`, and passing other arguments without an explicit keyword will result in an error or misinterpretation.\n",
      "  warnings.warn(\n"
     ]
    },
    {
     "data": {
      "text/plain": [
       "Text(0.5, 1.0, \"Boxplot of the 'Toluene' values after treating the outliers\")"
      ]
     },
     "execution_count": 49,
     "metadata": {},
     "output_type": "execute_result"
    },
    {
     "data": {
      "image/png": "[encoded data removed]",
      "text/plain": [
       "<Figure size 432x288 with 1 Axes>"
      ]
     },
     "metadata": {
      "needs_background": "light"
     },
     "output_type": "display_data"
    }
   ],
   "source": [
    "# Computing 90th percentiles and replacing the outliers\n",
    "ninetieth_percentile = int(np.percentile(df['Toluene'], 90))\n",
    "\n",
    "# the values above 90th percentile are replaced with 90th percentile value\n",
    "df['Toluene'] = np.where(df['Toluene']>ninetieth_percentile, ninetieth_percentile, df['Toluene'])\n",
    "\n",
    "sns.boxplot(df['Toluene'])\n",
    "plt.title(\"Boxplot of the 'Toluene' values after treating the outliers\")"
   ]
  },
  {
   "cell_type": "code",
   "execution_count": 50,
   "id": "aeddad77",
   "metadata": {},
   "outputs": [
    {
     "name": "stderr",
     "output_type": "stream",
     "text": [
      "F:\\ANACONDA\\lib\\site-packages\\seaborn\\_decorators.py:36: FutureWarning: Pass the following variable as a keyword arg: x. From version 0.12, the only valid positional argument will be `data`, and passing other arguments without an explicit keyword will result in an error or misinterpretation.\n",
      "  warnings.warn(\n"
     ]
    },
    {
     "data": {
      "text/plain": [
       "<AxesSubplot:xlabel='Xylene'>"
      ]
     },
     "execution_count": 50,
     "metadata": {},
     "output_type": "execute_result"
    },
    {
     "data": {
      "image/png": "[encoded data removed]",
      "text/plain": [
       "<Figure size 432x288 with 1 Axes>"
      ]
     },
     "metadata": {
      "needs_background": "light"
     },
     "output_type": "display_data"
    }
   ],
   "source": [
    "sns.boxplot(df['Xylene' ])"
   ]
  },
  {
   "cell_type": "code",
   "execution_count": 51,
   "id": "f54967bf",
   "metadata": {},
   "outputs": [
    {
     "name": "stdout",
     "output_type": "stream",
     "text": [
      "9381 outliers found in the 'Xylene' values\n"
     ]
    }
   ],
   "source": [
    "Q1=np.percentile(df['Xylene'],25,interpolation=\"midpoint\")\n",
    "Q3=np.percentile(df['Xylene'],75,interpolation=\"midpoint\")\n",
    "IQR=Q3-Q1\n",
    "low_lim=Q1-1.5*IQR\n",
    "up_lim=Q3+1.5*IQR\n",
    "\n",
    "outlier=[]\n",
    "for x in df['Xylene']:\n",
    "    if(x>up_lim)or(x<low_lim):\n",
    "        outlier.append(x)\n",
    "print(len(outlier), \"outliers found in the 'Xylene' values\")"
   ]
  },
  {
   "cell_type": "markdown",
   "id": "82df49c4",
   "metadata": {},
   "source": [
    "Not applyting outlier for Xylene "
   ]
  },
  {
   "cell_type": "code",
   "execution_count": 52,
   "id": "0c3374e1",
   "metadata": {},
   "outputs": [
    {
     "name": "stderr",
     "output_type": "stream",
     "text": [
      "F:\\ANACONDA\\lib\\site-packages\\seaborn\\_decorators.py:36: FutureWarning: Pass the following variable as a keyword arg: x. From version 0.12, the only valid positional argument will be `data`, and passing other arguments without an explicit keyword will result in an error or misinterpretation.\n",
      "  warnings.warn(\n"
     ]
    },
    {
     "data": {
      "text/plain": [
       "<AxesSubplot:xlabel='PM2.5'>"
      ]
     },
     "execution_count": 52,
     "metadata": {},
     "output_type": "execute_result"
    },
    {
     "data": {
      "image/png": "[encoded data removed]",
      "text/plain": [
       "<Figure size 432x288 with 1 Axes>"
      ]
     },
     "metadata": {
      "needs_background": "light"
     },
     "output_type": "display_data"
    }
   ],
   "source": [
    "sns.boxplot(df['PM2.5' ])"
   ]
  },
  {
   "cell_type": "code",
   "execution_count": 53,
   "id": "e9d2b861",
   "metadata": {},
   "outputs": [
    {
     "name": "stdout",
     "output_type": "stream",
     "text": [
      "2524 outliers found in the 'PM2.5' values\n"
     ]
    }
   ],
   "source": [
    "Q1=np.percentile(df['PM2.5'],25,interpolation=\"midpoint\")\n",
    "Q3=np.percentile(df['PM2.5'],75,interpolation=\"midpoint\")\n",
    "IQR=Q3-Q1\n",
    "low_lim=Q1-1.5*IQR\n",
    "up_lim=Q3+1.5*IQR\n",
    "\n",
    "outlier=[]\n",
    "for x in df['PM2.5']:\n",
    "    if(x>up_lim)or(x<low_lim):\n",
    "        outlier.append(x)\n",
    "print(len(outlier), \"outliers found in the 'PM2.5' values\")"
   ]
  },
  {
   "cell_type": "markdown",
   "id": "8b11caf9",
   "metadata": {},
   "source": [
    "Not applyting outlier for PM2.5"
   ]
  },
  {
   "cell_type": "code",
   "execution_count": 54,
   "id": "34a15619",
   "metadata": {},
   "outputs": [
    {
     "name": "stderr",
     "output_type": "stream",
     "text": [
      "F:\\ANACONDA\\lib\\site-packages\\seaborn\\_decorators.py:36: FutureWarning: Pass the following variable as a keyword arg: x. From version 0.12, the only valid positional argument will be `data`, and passing other arguments without an explicit keyword will result in an error or misinterpretation.\n",
      "  warnings.warn(\n"
     ]
    },
    {
     "data": {
      "text/plain": [
       "<AxesSubplot:xlabel='PM10'>"
      ]
     },
     "execution_count": 54,
     "metadata": {},
     "output_type": "execute_result"
    },
    {
     "data": {
      "image/png": "[encoded data removed]",
      "text/plain": [
       "<Figure size 432x288 with 1 Axes>"
      ]
     },
     "metadata": {
      "needs_background": "light"
     },
     "output_type": "display_data"
    }
   ],
   "source": [
    "sns.boxplot(df['PM10' ])"
   ]
  },
  {
   "cell_type": "code",
   "execution_count": 55,
   "id": "af42022c",
   "metadata": {},
   "outputs": [
    {
     "name": "stdout",
     "output_type": "stream",
     "text": [
      "6858 outliers found in the 'PM10' values\n"
     ]
    }
   ],
   "source": [
    "Q1=np.percentile(df['PM10'],25,interpolation=\"midpoint\")\n",
    "Q3=np.percentile(df['PM10'],75,interpolation=\"midpoint\")\n",
    "IQR=Q3-Q1\n",
    "low_lim=Q1-1.5*IQR\n",
    "up_lim=Q3+1.5*IQR\n",
    "\n",
    "outlier=[]\n",
    "for x in df['PM10']:\n",
    "    if(x>up_lim)or(x<low_lim):\n",
    "        outlier.append(x)\n",
    "print(len(outlier), \"outliers found in the 'PM10' values\")"
   ]
  },
  {
   "cell_type": "markdown",
   "id": "e03b2061",
   "metadata": {},
   "source": [
    "Not applyting outlier for PM10"
   ]
  },
  {
   "cell_type": "code",
   "execution_count": 56,
   "id": "f4ca76f4",
   "metadata": {},
   "outputs": [
    {
     "name": "stderr",
     "output_type": "stream",
     "text": [
      "F:\\ANACONDA\\lib\\site-packages\\seaborn\\_decorators.py:36: FutureWarning: Pass the following variable as a keyword arg: x. From version 0.12, the only valid positional argument will be `data`, and passing other arguments without an explicit keyword will result in an error or misinterpretation.\n",
      "  warnings.warn(\n"
     ]
    },
    {
     "data": {
      "text/plain": [
       "<AxesSubplot:xlabel='AQI'>"
      ]
     },
     "execution_count": 56,
     "metadata": {},
     "output_type": "execute_result"
    },
    {
     "data": {
      "image/png": "[encoded data removed]",
      "text/plain": [
       "<Figure size 432x288 with 1 Axes>"
      ]
     },
     "metadata": {
      "needs_background": "light"
     },
     "output_type": "display_data"
    }
   ],
   "source": [
    "sns.boxplot(df['AQI' ])"
   ]
  },
  {
   "cell_type": "code",
   "execution_count": 57,
   "id": "2b7c6e24",
   "metadata": {},
   "outputs": [
    {
     "name": "stdout",
     "output_type": "stream",
     "text": [
      "2196 outliers found in the 'AQI' values\n"
     ]
    }
   ],
   "source": [
    "Q1=np.percentile(df['AQI'],25,interpolation=\"midpoint\")\n",
    "Q3=np.percentile(df['AQI'],75,interpolation=\"midpoint\")\n",
    "IQR=Q3-Q1\n",
    "low_lim=Q1-1.5*IQR\n",
    "up_lim=Q3+1.5*IQR\n",
    "\n",
    "outlier=[]\n",
    "for x in df['AQI']:\n",
    "    if(x>up_lim)or(x<low_lim):\n",
    "        outlier.append(x)\n",
    "print(len(outlier), \"outliers found in the 'AQI' values\")"
   ]
  },
  {
   "cell_type": "code",
   "execution_count": 58,
   "id": "e1e7cd81",
   "metadata": {},
   "outputs": [
    {
     "name": "stderr",
     "output_type": "stream",
     "text": [
      "F:\\ANACONDA\\lib\\site-packages\\seaborn\\_decorators.py:36: FutureWarning: Pass the following variable as a keyword arg: x. From version 0.12, the only valid positional argument will be `data`, and passing other arguments without an explicit keyword will result in an error or misinterpretation.\n",
      "  warnings.warn(\n"
     ]
    },
    {
     "data": {
      "text/plain": [
       "Text(0.5, 1.0, \"Boxplot of the 'AQI' values after treating the outliers\")"
      ]
     },
     "execution_count": 58,
     "metadata": {},
     "output_type": "execute_result"
    },
    {
     "data": {
      "image/png": "[encoded data removed]",
      "text/plain": [
       "<Figure size 432x288 with 1 Axes>"
      ]
     },
     "metadata": {
      "needs_background": "light"
     },
     "output_type": "display_data"
    }
   ],
   "source": [
    "# Computing 90th percentiles and replacing the outliers\n",
    "ninetieth_percentile = int(np.percentile(df['AQI'], 90))\n",
    "\n",
    "# the values above 90th percentile are replaced with 90th percentile value\n",
    "df['AQI'] = np.where(df['AQI']>ninetieth_percentile, ninetieth_percentile, df['AQI'])\n",
    "\n",
    "sns.boxplot(df['AQI'])\n",
    "plt.title(\"Boxplot of the 'AQI' values after treating the outliers\")"
   ]
  },
  {
   "cell_type": "code",
   "execution_count": 59,
   "id": "d72e0c29",
   "metadata": {},
   "outputs": [
    {
     "data": {
      "image/png": "[encoded data removed]",
      "text/plain": [
       "<Figure size 2880x2160 with 14 Axes>"
      ]
     },
     "metadata": {
      "needs_background": "light"
     },
     "output_type": "display_data"
    }
   ],
   "source": [
    "df.plot(kind='box', subplots=True, layout=(2,7),\n",
    "sharex=False,sharey=False, figsize=(40, 30), \n",
    "color='blue');"
   ]
  },
  {
   "cell_type": "code",
   "execution_count": null,
   "id": "6b740582",
   "metadata": {},
   "outputs": [],
   "source": [
    "We are not applying outlier correction to Xylene, PM2.5 and PM10 as the majority of the values have very less difference with each other"
   ]
  },
  {
   "cell_type": "code",
   "execution_count": 60,
   "id": "0f1f2481",
   "metadata": {},
   "outputs": [
    {
     "data": {
      "text/plain": [
       "Index(['City', 'Date', 'PM2.5', 'PM10', 'NO', 'NO2', 'NOx', 'NH3', 'CO', 'SO2',\n",
       "       'O3', 'Benzene', 'Toluene', 'Xylene', 'AQI', 'AQI_Bucket'],\n",
       "      dtype='object')"
      ]
     },
     "execution_count": 60,
     "metadata": {},
     "output_type": "execute_result"
    }
   ],
   "source": [
    "df.columns"
   ]
  },
  {
   "cell_type": "code",
   "execution_count": 61,
   "id": "5465cd5c",
   "metadata": {},
   "outputs": [
    {
     "data": {
      "text/html": [
       "<div>\n",
       "<style scoped>\n",
       "    .dataframe tbody tr th:only-of-type {\n",
       "        vertical-align: middle;\n",
       "    }\n",
       "\n",
       "    .dataframe tbody tr th {\n",
       "        vertical-align: top;\n",
       "    }\n",
       "\n",
       "    .dataframe thead th {\n",
       "        text-align: right;\n",
       "    }\n",
       "</style>\n",
       "<table border=\"1\" class=\"dataframe\">\n",
       "  <thead>\n",
       "    <tr style=\"text-align: right;\">\n",
       "      <th></th>\n",
       "      <th>City</th>\n",
       "      <th>Date</th>\n",
       "      <th>PM2.5</th>\n",
       "      <th>PM10</th>\n",
       "      <th>NO</th>\n",
       "      <th>NO2</th>\n",
       "      <th>NOx</th>\n",
       "      <th>NH3</th>\n",
       "      <th>CO</th>\n",
       "      <th>SO2</th>\n",
       "      <th>O3</th>\n",
       "      <th>Benzene</th>\n",
       "      <th>Toluene</th>\n",
       "      <th>Xylene</th>\n",
       "      <th>AQI</th>\n",
       "      <th>AQI_Bucket</th>\n",
       "    </tr>\n",
       "  </thead>\n",
       "  <tbody>\n",
       "    <tr>\n",
       "      <th>0</th>\n",
       "      <td>Ahmedabad</td>\n",
       "      <td>2015-01-01</td>\n",
       "      <td>52.22</td>\n",
       "      <td>100.95</td>\n",
       "      <td>0.92</td>\n",
       "      <td>18.22</td>\n",
       "      <td>17.15</td>\n",
       "      <td>17.82</td>\n",
       "      <td>0.92</td>\n",
       "      <td>27.64</td>\n",
       "      <td>58.00</td>\n",
       "      <td>0.00</td>\n",
       "      <td>0.02</td>\n",
       "      <td>0.00</td>\n",
       "      <td>124.0</td>\n",
       "      <td>Moderate</td>\n",
       "    </tr>\n",
       "    <tr>\n",
       "      <th>1</th>\n",
       "      <td>Ahmedabad</td>\n",
       "      <td>2015-01-02</td>\n",
       "      <td>52.22</td>\n",
       "      <td>100.95</td>\n",
       "      <td>0.97</td>\n",
       "      <td>15.69</td>\n",
       "      <td>16.46</td>\n",
       "      <td>17.82</td>\n",
       "      <td>0.97</td>\n",
       "      <td>24.55</td>\n",
       "      <td>34.06</td>\n",
       "      <td>3.68</td>\n",
       "      <td>5.50</td>\n",
       "      <td>3.77</td>\n",
       "      <td>124.0</td>\n",
       "      <td>Moderate</td>\n",
       "    </tr>\n",
       "    <tr>\n",
       "      <th>2</th>\n",
       "      <td>Ahmedabad</td>\n",
       "      <td>2015-01-03</td>\n",
       "      <td>52.22</td>\n",
       "      <td>100.95</td>\n",
       "      <td>17.40</td>\n",
       "      <td>19.30</td>\n",
       "      <td>29.70</td>\n",
       "      <td>17.82</td>\n",
       "      <td>2.00</td>\n",
       "      <td>28.00</td>\n",
       "      <td>30.70</td>\n",
       "      <td>5.00</td>\n",
       "      <td>16.40</td>\n",
       "      <td>2.25</td>\n",
       "      <td>124.0</td>\n",
       "      <td>Moderate</td>\n",
       "    </tr>\n",
       "    <tr>\n",
       "      <th>3</th>\n",
       "      <td>Ahmedabad</td>\n",
       "      <td>2015-01-04</td>\n",
       "      <td>52.22</td>\n",
       "      <td>100.95</td>\n",
       "      <td>1.70</td>\n",
       "      <td>18.48</td>\n",
       "      <td>17.97</td>\n",
       "      <td>17.82</td>\n",
       "      <td>1.70</td>\n",
       "      <td>18.59</td>\n",
       "      <td>36.08</td>\n",
       "      <td>4.43</td>\n",
       "      <td>10.14</td>\n",
       "      <td>1.00</td>\n",
       "      <td>124.0</td>\n",
       "      <td>Moderate</td>\n",
       "    </tr>\n",
       "    <tr>\n",
       "      <th>4</th>\n",
       "      <td>Ahmedabad</td>\n",
       "      <td>2015-01-05</td>\n",
       "      <td>52.22</td>\n",
       "      <td>100.95</td>\n",
       "      <td>22.10</td>\n",
       "      <td>21.42</td>\n",
       "      <td>37.76</td>\n",
       "      <td>17.82</td>\n",
       "      <td>2.00</td>\n",
       "      <td>28.00</td>\n",
       "      <td>39.31</td>\n",
       "      <td>5.00</td>\n",
       "      <td>18.89</td>\n",
       "      <td>2.78</td>\n",
       "      <td>124.0</td>\n",
       "      <td>Moderate</td>\n",
       "    </tr>\n",
       "    <tr>\n",
       "      <th>...</th>\n",
       "      <td>...</td>\n",
       "      <td>...</td>\n",
       "      <td>...</td>\n",
       "      <td>...</td>\n",
       "      <td>...</td>\n",
       "      <td>...</td>\n",
       "      <td>...</td>\n",
       "      <td>...</td>\n",
       "      <td>...</td>\n",
       "      <td>...</td>\n",
       "      <td>...</td>\n",
       "      <td>...</td>\n",
       "      <td>...</td>\n",
       "      <td>...</td>\n",
       "      <td>...</td>\n",
       "      <td>...</td>\n",
       "    </tr>\n",
       "    <tr>\n",
       "      <th>26214</th>\n",
       "      <td>Thiruvananthapuram</td>\n",
       "      <td>2020-04-27</td>\n",
       "      <td>14.13</td>\n",
       "      <td>34.27</td>\n",
       "      <td>5.60</td>\n",
       "      <td>8.98</td>\n",
       "      <td>12.48</td>\n",
       "      <td>5.65</td>\n",
       "      <td>0.49</td>\n",
       "      <td>5.50</td>\n",
       "      <td>42.41</td>\n",
       "      <td>0.98</td>\n",
       "      <td>2.85</td>\n",
       "      <td>0.82</td>\n",
       "      <td>63.0</td>\n",
       "      <td>Satisfactory</td>\n",
       "    </tr>\n",
       "    <tr>\n",
       "      <th>26215</th>\n",
       "      <td>Thiruvananthapuram</td>\n",
       "      <td>2020-04-28</td>\n",
       "      <td>23.84</td>\n",
       "      <td>44.32</td>\n",
       "      <td>6.27</td>\n",
       "      <td>10.01</td>\n",
       "      <td>13.80</td>\n",
       "      <td>5.73</td>\n",
       "      <td>0.44</td>\n",
       "      <td>5.62</td>\n",
       "      <td>44.55</td>\n",
       "      <td>0.98</td>\n",
       "      <td>2.85</td>\n",
       "      <td>0.82</td>\n",
       "      <td>60.0</td>\n",
       "      <td>Satisfactory</td>\n",
       "    </tr>\n",
       "    <tr>\n",
       "      <th>26216</th>\n",
       "      <td>Thiruvananthapuram</td>\n",
       "      <td>2020-04-29</td>\n",
       "      <td>18.54</td>\n",
       "      <td>34.48</td>\n",
       "      <td>6.17</td>\n",
       "      <td>9.67</td>\n",
       "      <td>13.35</td>\n",
       "      <td>5.93</td>\n",
       "      <td>0.51</td>\n",
       "      <td>5.52</td>\n",
       "      <td>38.97</td>\n",
       "      <td>0.98</td>\n",
       "      <td>2.85</td>\n",
       "      <td>0.82</td>\n",
       "      <td>57.0</td>\n",
       "      <td>Satisfactory</td>\n",
       "    </tr>\n",
       "    <tr>\n",
       "      <th>26217</th>\n",
       "      <td>Thiruvananthapuram</td>\n",
       "      <td>2020-04-30</td>\n",
       "      <td>20.57</td>\n",
       "      <td>48.19</td>\n",
       "      <td>6.28</td>\n",
       "      <td>9.52</td>\n",
       "      <td>13.56</td>\n",
       "      <td>5.84</td>\n",
       "      <td>0.46</td>\n",
       "      <td>5.32</td>\n",
       "      <td>39.23</td>\n",
       "      <td>0.98</td>\n",
       "      <td>2.85</td>\n",
       "      <td>0.82</td>\n",
       "      <td>57.0</td>\n",
       "      <td>Satisfactory</td>\n",
       "    </tr>\n",
       "    <tr>\n",
       "      <th>26218</th>\n",
       "      <td>Thiruvananthapuram</td>\n",
       "      <td>2020-05-01</td>\n",
       "      <td>17.58</td>\n",
       "      <td>37.49</td>\n",
       "      <td>2.56</td>\n",
       "      <td>7.84</td>\n",
       "      <td>9.34</td>\n",
       "      <td>4.85</td>\n",
       "      <td>0.45</td>\n",
       "      <td>7.10</td>\n",
       "      <td>31.16</td>\n",
       "      <td>0.98</td>\n",
       "      <td>2.85</td>\n",
       "      <td>0.82</td>\n",
       "      <td>82.0</td>\n",
       "      <td>Satisfactory</td>\n",
       "    </tr>\n",
       "  </tbody>\n",
       "</table>\n",
       "<p>26219 rows × 16 columns</p>\n",
       "</div>"
      ],
      "text/plain": [
       "                     City        Date  PM2.5    PM10     NO    NO2    NOx  \\\n",
       "0               Ahmedabad  2015-01-01  52.22  100.95   0.92  18.22  17.15   \n",
       "1               Ahmedabad  2015-01-02  52.22  100.95   0.97  15.69  16.46   \n",
       "2               Ahmedabad  2015-01-03  52.22  100.95  17.40  19.30  29.70   \n",
       "3               Ahmedabad  2015-01-04  52.22  100.95   1.70  18.48  17.97   \n",
       "4               Ahmedabad  2015-01-05  52.22  100.95  22.10  21.42  37.76   \n",
       "...                   ...         ...    ...     ...    ...    ...    ...   \n",
       "26214  Thiruvananthapuram  2020-04-27  14.13   34.27   5.60   8.98  12.48   \n",
       "26215  Thiruvananthapuram  2020-04-28  23.84   44.32   6.27  10.01  13.80   \n",
       "26216  Thiruvananthapuram  2020-04-29  18.54   34.48   6.17   9.67  13.35   \n",
       "26217  Thiruvananthapuram  2020-04-30  20.57   48.19   6.28   9.52  13.56   \n",
       "26218  Thiruvananthapuram  2020-05-01  17.58   37.49   2.56   7.84   9.34   \n",
       "\n",
       "         NH3    CO    SO2     O3  Benzene  Toluene  Xylene    AQI  \\\n",
       "0      17.82  0.92  27.64  58.00     0.00     0.02    0.00  124.0   \n",
       "1      17.82  0.97  24.55  34.06     3.68     5.50    3.77  124.0   \n",
       "2      17.82  2.00  28.00  30.70     5.00    16.40    2.25  124.0   \n",
       "3      17.82  1.70  18.59  36.08     4.43    10.14    1.00  124.0   \n",
       "4      17.82  2.00  28.00  39.31     5.00    18.89    2.78  124.0   \n",
       "...      ...   ...    ...    ...      ...      ...     ...    ...   \n",
       "26214   5.65  0.49   5.50  42.41     0.98     2.85    0.82   63.0   \n",
       "26215   5.73  0.44   5.62  44.55     0.98     2.85    0.82   60.0   \n",
       "26216   5.93  0.51   5.52  38.97     0.98     2.85    0.82   57.0   \n",
       "26217   5.84  0.46   5.32  39.23     0.98     2.85    0.82   57.0   \n",
       "26218   4.85  0.45   7.10  31.16     0.98     2.85    0.82   82.0   \n",
       "\n",
       "         AQI_Bucket  \n",
       "0          Moderate  \n",
       "1          Moderate  \n",
       "2          Moderate  \n",
       "3          Moderate  \n",
       "4          Moderate  \n",
       "...             ...  \n",
       "26214  Satisfactory  \n",
       "26215  Satisfactory  \n",
       "26216  Satisfactory  \n",
       "26217  Satisfactory  \n",
       "26218  Satisfactory  \n",
       "\n",
       "[26219 rows x 16 columns]"
      ]
     },
     "execution_count": 61,
     "metadata": {},
     "output_type": "execute_result"
    }
   ],
   "source": [
    "df"
   ]
  },
  {
   "cell_type": "markdown",
   "id": "d4ff4741",
   "metadata": {},
   "source": [
    "# c. Encoding"
   ]
  },
  {
   "cell_type": "code",
   "execution_count": 73,
   "id": "e0844e66",
   "metadata": {},
   "outputs": [],
   "source": [
    "from sklearn import preprocessing\n",
    "le=preprocessing.LabelEncoder()\n",
    "df.City=le.fit_transform(df.City)\n",
    "df.Date=le.fit_transform(df.Date)\n",
    "df.AQI_Bucket=le.fit_transform(df.AQI_Bucket)"
   ]
  },
  {
   "cell_type": "markdown",
   "id": "6710fa57",
   "metadata": {},
   "source": [
    "# d.Feature Reduction"
   ]
  },
  {
   "cell_type": "markdown",
   "id": "c3bfa15c",
   "metadata": {},
   "source": [
    "# Correlation between variables (Pearson correlation)"
   ]
  },
  {
   "cell_type": "code",
   "execution_count": 77,
   "id": "0fd9cf2f",
   "metadata": {},
   "outputs": [
    {
     "data": {
      "text/plain": [
       "Text(0.5, 1.0, 'Pearson Correlation')"
      ]
     },
     "execution_count": 77,
     "metadata": {},
     "output_type": "execute_result"
    },
    {
     "data": {
      "image/png": "[encoded data removed]",
      "text/plain": [
       "<Figure size 1008x576 with 2 Axes>"
      ]
     },
     "metadata": {
      "needs_background": "light"
     },
     "output_type": "display_data"
    }
   ],
   "source": [
    "pearsonCorr = df.corr(method='pearson')\n",
    "fig = plt.subplots(figsize=(14,8))\n",
    "sns.heatmap(pearsonCorr, vmin=-1,vmax=1, cmap = \"Greens\", annot=True, linewidth=0.1)\n",
    "plt.title(\"Pearson Correlation\")"
   ]
  },
  {
   "cell_type": "markdown",
   "id": "39db259f",
   "metadata": {},
   "source": [
    "Here NH3,O3,Xylene shows low positive correlation"
   ]
  },
  {
   "cell_type": "markdown",
   "id": "9be20c44",
   "metadata": {},
   "source": [
    "# e. Feature engineering"
   ]
  },
  {
   "cell_type": "code",
   "execution_count": 78,
   "id": "eb783c39",
   "metadata": {},
   "outputs": [],
   "source": [
    "df['BTX'] = df['Benzene']+df['Toluene']+df['Xylene']\n",
    "df['Particulate_Matter'] = df['PM2.5']+df['PM10']\n",
    "df_1=df.drop(['Benzene','Toluene','Xylene',\"PM2.5\",\"PM10\"],axis=1);"
   ]
  },
  {
   "cell_type": "code",
   "execution_count": 79,
   "id": "f797206d",
   "metadata": {},
   "outputs": [
    {
     "data": {
      "text/html": [
       "<div>\n",
       "<style scoped>\n",
       "    .dataframe tbody tr th:only-of-type {\n",
       "        vertical-align: middle;\n",
       "    }\n",
       "\n",
       "    .dataframe tbody tr th {\n",
       "        vertical-align: top;\n",
       "    }\n",
       "\n",
       "    .dataframe thead th {\n",
       "        text-align: right;\n",
       "    }\n",
       "</style>\n",
       "<table border=\"1\" class=\"dataframe\">\n",
       "  <thead>\n",
       "    <tr style=\"text-align: right;\">\n",
       "      <th></th>\n",
       "      <th>City</th>\n",
       "      <th>Date</th>\n",
       "      <th>NO</th>\n",
       "      <th>NO2</th>\n",
       "      <th>NOx</th>\n",
       "      <th>NH3</th>\n",
       "      <th>CO</th>\n",
       "      <th>SO2</th>\n",
       "      <th>O3</th>\n",
       "      <th>AQI</th>\n",
       "      <th>AQI_Bucket</th>\n",
       "      <th>BTX</th>\n",
       "      <th>Particulate_Matter</th>\n",
       "    </tr>\n",
       "  </thead>\n",
       "  <tbody>\n",
       "    <tr>\n",
       "      <th>0</th>\n",
       "      <td>0</td>\n",
       "      <td>0</td>\n",
       "      <td>0.92</td>\n",
       "      <td>18.22</td>\n",
       "      <td>17.15</td>\n",
       "      <td>17.82</td>\n",
       "      <td>0.92</td>\n",
       "      <td>27.64</td>\n",
       "      <td>58.00</td>\n",
       "      <td>124.0</td>\n",
       "      <td>1</td>\n",
       "      <td>0.02</td>\n",
       "      <td>153.17</td>\n",
       "    </tr>\n",
       "    <tr>\n",
       "      <th>1</th>\n",
       "      <td>0</td>\n",
       "      <td>1</td>\n",
       "      <td>0.97</td>\n",
       "      <td>15.69</td>\n",
       "      <td>16.46</td>\n",
       "      <td>17.82</td>\n",
       "      <td>0.97</td>\n",
       "      <td>24.55</td>\n",
       "      <td>34.06</td>\n",
       "      <td>124.0</td>\n",
       "      <td>1</td>\n",
       "      <td>12.95</td>\n",
       "      <td>153.17</td>\n",
       "    </tr>\n",
       "    <tr>\n",
       "      <th>2</th>\n",
       "      <td>0</td>\n",
       "      <td>2</td>\n",
       "      <td>17.40</td>\n",
       "      <td>19.30</td>\n",
       "      <td>29.70</td>\n",
       "      <td>17.82</td>\n",
       "      <td>2.00</td>\n",
       "      <td>28.00</td>\n",
       "      <td>30.70</td>\n",
       "      <td>124.0</td>\n",
       "      <td>1</td>\n",
       "      <td>23.65</td>\n",
       "      <td>153.17</td>\n",
       "    </tr>\n",
       "    <tr>\n",
       "      <th>3</th>\n",
       "      <td>0</td>\n",
       "      <td>3</td>\n",
       "      <td>1.70</td>\n",
       "      <td>18.48</td>\n",
       "      <td>17.97</td>\n",
       "      <td>17.82</td>\n",
       "      <td>1.70</td>\n",
       "      <td>18.59</td>\n",
       "      <td>36.08</td>\n",
       "      <td>124.0</td>\n",
       "      <td>1</td>\n",
       "      <td>15.57</td>\n",
       "      <td>153.17</td>\n",
       "    </tr>\n",
       "    <tr>\n",
       "      <th>4</th>\n",
       "      <td>0</td>\n",
       "      <td>4</td>\n",
       "      <td>22.10</td>\n",
       "      <td>21.42</td>\n",
       "      <td>37.76</td>\n",
       "      <td>17.82</td>\n",
       "      <td>2.00</td>\n",
       "      <td>28.00</td>\n",
       "      <td>39.31</td>\n",
       "      <td>124.0</td>\n",
       "      <td>1</td>\n",
       "      <td>26.67</td>\n",
       "      <td>153.17</td>\n",
       "    </tr>\n",
       "    <tr>\n",
       "      <th>...</th>\n",
       "      <td>...</td>\n",
       "      <td>...</td>\n",
       "      <td>...</td>\n",
       "      <td>...</td>\n",
       "      <td>...</td>\n",
       "      <td>...</td>\n",
       "      <td>...</td>\n",
       "      <td>...</td>\n",
       "      <td>...</td>\n",
       "      <td>...</td>\n",
       "      <td>...</td>\n",
       "      <td>...</td>\n",
       "      <td>...</td>\n",
       "    </tr>\n",
       "    <tr>\n",
       "      <th>26214</th>\n",
       "      <td>23</td>\n",
       "      <td>1943</td>\n",
       "      <td>5.60</td>\n",
       "      <td>8.98</td>\n",
       "      <td>12.48</td>\n",
       "      <td>5.65</td>\n",
       "      <td>0.49</td>\n",
       "      <td>5.50</td>\n",
       "      <td>42.41</td>\n",
       "      <td>63.0</td>\n",
       "      <td>3</td>\n",
       "      <td>4.65</td>\n",
       "      <td>48.40</td>\n",
       "    </tr>\n",
       "    <tr>\n",
       "      <th>26215</th>\n",
       "      <td>23</td>\n",
       "      <td>1944</td>\n",
       "      <td>6.27</td>\n",
       "      <td>10.01</td>\n",
       "      <td>13.80</td>\n",
       "      <td>5.73</td>\n",
       "      <td>0.44</td>\n",
       "      <td>5.62</td>\n",
       "      <td>44.55</td>\n",
       "      <td>60.0</td>\n",
       "      <td>3</td>\n",
       "      <td>4.65</td>\n",
       "      <td>68.16</td>\n",
       "    </tr>\n",
       "    <tr>\n",
       "      <th>26216</th>\n",
       "      <td>23</td>\n",
       "      <td>1945</td>\n",
       "      <td>6.17</td>\n",
       "      <td>9.67</td>\n",
       "      <td>13.35</td>\n",
       "      <td>5.93</td>\n",
       "      <td>0.51</td>\n",
       "      <td>5.52</td>\n",
       "      <td>38.97</td>\n",
       "      <td>57.0</td>\n",
       "      <td>3</td>\n",
       "      <td>4.65</td>\n",
       "      <td>53.02</td>\n",
       "    </tr>\n",
       "    <tr>\n",
       "      <th>26217</th>\n",
       "      <td>23</td>\n",
       "      <td>1946</td>\n",
       "      <td>6.28</td>\n",
       "      <td>9.52</td>\n",
       "      <td>13.56</td>\n",
       "      <td>5.84</td>\n",
       "      <td>0.46</td>\n",
       "      <td>5.32</td>\n",
       "      <td>39.23</td>\n",
       "      <td>57.0</td>\n",
       "      <td>3</td>\n",
       "      <td>4.65</td>\n",
       "      <td>68.76</td>\n",
       "    </tr>\n",
       "    <tr>\n",
       "      <th>26218</th>\n",
       "      <td>23</td>\n",
       "      <td>1947</td>\n",
       "      <td>2.56</td>\n",
       "      <td>7.84</td>\n",
       "      <td>9.34</td>\n",
       "      <td>4.85</td>\n",
       "      <td>0.45</td>\n",
       "      <td>7.10</td>\n",
       "      <td>31.16</td>\n",
       "      <td>82.0</td>\n",
       "      <td>3</td>\n",
       "      <td>4.65</td>\n",
       "      <td>55.07</td>\n",
       "    </tr>\n",
       "  </tbody>\n",
       "</table>\n",
       "<p>26219 rows × 13 columns</p>\n",
       "</div>"
      ],
      "text/plain": [
       "       City  Date     NO    NO2    NOx    NH3    CO    SO2     O3    AQI  \\\n",
       "0         0     0   0.92  18.22  17.15  17.82  0.92  27.64  58.00  124.0   \n",
       "1         0     1   0.97  15.69  16.46  17.82  0.97  24.55  34.06  124.0   \n",
       "2         0     2  17.40  19.30  29.70  17.82  2.00  28.00  30.70  124.0   \n",
       "3         0     3   1.70  18.48  17.97  17.82  1.70  18.59  36.08  124.0   \n",
       "4         0     4  22.10  21.42  37.76  17.82  2.00  28.00  39.31  124.0   \n",
       "...     ...   ...    ...    ...    ...    ...   ...    ...    ...    ...   \n",
       "26214    23  1943   5.60   8.98  12.48   5.65  0.49   5.50  42.41   63.0   \n",
       "26215    23  1944   6.27  10.01  13.80   5.73  0.44   5.62  44.55   60.0   \n",
       "26216    23  1945   6.17   9.67  13.35   5.93  0.51   5.52  38.97   57.0   \n",
       "26217    23  1946   6.28   9.52  13.56   5.84  0.46   5.32  39.23   57.0   \n",
       "26218    23  1947   2.56   7.84   9.34   4.85  0.45   7.10  31.16   82.0   \n",
       "\n",
       "       AQI_Bucket    BTX  Particulate_Matter  \n",
       "0               1   0.02              153.17  \n",
       "1               1  12.95              153.17  \n",
       "2               1  23.65              153.17  \n",
       "3               1  15.57              153.17  \n",
       "4               1  26.67              153.17  \n",
       "...           ...    ...                 ...  \n",
       "26214           3   4.65               48.40  \n",
       "26215           3   4.65               68.16  \n",
       "26216           3   4.65               53.02  \n",
       "26217           3   4.65               68.76  \n",
       "26218           3   4.65               55.07  \n",
       "\n",
       "[26219 rows x 13 columns]"
      ]
     },
     "execution_count": 79,
     "metadata": {},
     "output_type": "execute_result"
    }
   ],
   "source": [
    "df_1"
   ]
  },
  {
   "cell_type": "code",
   "execution_count": null,
   "id": "1bb8f449",
   "metadata": {},
   "outputs": [],
   "source": [
    "# Here NH3,O3,BTX  shows low positive correlation"
   ]
  },
  {
   "cell_type": "markdown",
   "id": "169e04b7",
   "metadata": {},
   "source": [
    "# EDA"
   ]
  },
  {
   "cell_type": "markdown",
   "id": "c93dafc8",
   "metadata": {},
   "source": [
    "# 4.Modelling"
   ]
  },
  {
   "cell_type": "code",
   "execution_count": 85,
   "id": "e47cca1f",
   "metadata": {},
   "outputs": [],
   "source": [
    "from sklearn.model_selection import train_test_split\n",
    "\n",
    "x = df_1.drop(\"AQI_Bucket\",axis=1)\n",
    "y = df_1[\"AQI_Bucket\"]\n",
    "results_arr = {'Accuracy':[],'MSE':[]}\n",
    "\n",
    "X_train,X_test,y_train,y_test = train_test_split(x,y,random_state=42,test_size=0.20)"
   ]
  },
  {
   "cell_type": "code",
   "execution_count": 86,
   "id": "a1beae60",
   "metadata": {},
   "outputs": [],
   "source": [
    "#Logistic Regression"
   ]
  },
  {
   "cell_type": "code",
   "execution_count": 87,
   "id": "547c1561",
   "metadata": {},
   "outputs": [
    {
     "name": "stdout",
     "output_type": "stream",
     "text": [
      "Accuracy is 0.6735316552250191\n",
      "MSE is 1.6607551487414187\n",
      "[[  53    5    0  131    0    0]\n",
      " [   0 2075   28  269   23   73]\n",
      " [   0  309   88    0    7  120]\n",
      " [  20  336    2  991    1    3]\n",
      " [   0   23   63    0   60  122]\n",
      " [   0   36   99    0   42  265]]\n"
     ]
    },
    {
     "name": "stderr",
     "output_type": "stream",
     "text": [
      "F:\\ANACONDA\\lib\\site-packages\\sklearn\\linear_model\\_logistic.py:763: ConvergenceWarning: lbfgs failed to converge (status=1):\n",
      "STOP: TOTAL NO. of ITERATIONS REACHED LIMIT.\n",
      "\n",
      "Increase the number of iterations (max_iter) or scale the data as shown in:\n",
      "    https://scikit-learn.org/stable/modules/preprocessing.html\n",
      "Please also refer to the documentation for alternative solver options:\n",
      "    https://scikit-learn.org/stable/modules/linear_model.html#logistic-regression\n",
      "  n_iter_i = _check_optimize_result(\n"
     ]
    }
   ],
   "source": [
    "\n",
    "from sklearn.linear_model import LogisticRegression\n",
    "from sklearn.metrics import accuracy_score,confusion_matrix\n",
    "from sklearn.metrics import mean_squared_error\n",
    "logit_reg=LogisticRegression()\n",
    "model=logit_reg.fit(X_train,y_train)\n",
    "predictions=model.predict(X_test)\n",
    "accuracy = accuracy_score(y_test,predictions)\n",
    "MSE=mean_squared_error(y_test,predictions)\n",
    "cm = confusion_matrix(y_test,predictions)\n",
    "results_arr['Accuracy'].append(accuracy)\n",
    "results_arr['MSE'].append(MSE)\n",
    "print('Accuracy is',accuracy)\n",
    "print('MSE is',MSE)\n",
    "print(cm)"
   ]
  },
  {
   "cell_type": "code",
   "execution_count": null,
   "id": "f2d3c6d1",
   "metadata": {},
   "outputs": [],
   "source": [
    "#Decision Tree"
   ]
  },
  {
   "cell_type": "code",
   "execution_count": 88,
   "id": "7c21b8b2",
   "metadata": {},
   "outputs": [
    {
     "name": "stdout",
     "output_type": "stream",
     "text": [
      "Accuracy is 0.9811212814645309\n",
      "MSE is 0.01887871853546911\n",
      "[[ 189    0    0    0    0    0]\n",
      " [   0 2468    0    0    0    0]\n",
      " [   0    0  524    0    0    0]\n",
      " [   0    0    0 1353    0    0]\n",
      " [   0    0    0    0  215   53]\n",
      " [   0    0    0    0   46  396]]\n"
     ]
    }
   ],
   "source": [
    "\n",
    "from sklearn.tree import DecisionTreeClassifier\n",
    "dt_model=DecisionTreeClassifier()\n",
    "dt_model.fit(X_train,y_train)\n",
    "predictions=dt_model.predict(X_test)\n",
    "accuracy = accuracy_score(y_test,predictions)\n",
    "MSE=mean_squared_error(y_test,predictions)\n",
    "cm = confusion_matrix(y_test,predictions)\n",
    "results_arr['Accuracy'].append(accuracy)\n",
    "results_arr['MSE'].append(MSE)\n",
    "print('Accuracy is',accuracy)\n",
    "print('MSE is',MSE)\n",
    "print(cm)"
   ]
  },
  {
   "cell_type": "code",
   "execution_count": null,
   "id": "e2ae1701",
   "metadata": {},
   "outputs": [],
   "source": [
    "## SVM"
   ]
  },
  {
   "cell_type": "code",
   "execution_count": null,
   "id": "ae8745c5",
   "metadata": {},
   "outputs": [],
   "source": [
    "\n",
    "from sklearn.svm import SVC\n",
    "svm_linear=SVC(kernel='linear')\n",
    "svm_linear.fit(X_train,y_train)\n",
    "predictions=svm_linear.predict(X_test)\n",
    "accuracy = accuracy_score(y_test,predictions)\n",
    "MSE=mean_squared_error(y_test,predictions)\n",
    "cm = confusion_matrix(y_test,predictions)\n",
    "results_arr['Accuracy'].append(accuracy)\n",
    "results_arr['MSE'].append(MSE)\n",
    "print('Accuracy is',accuracy)\n",
    "print('MSE is',MSE)\n",
    "print(cm)"
   ]
  },
  {
   "cell_type": "code",
   "execution_count": 89,
   "id": "488dab54",
   "metadata": {},
   "outputs": [],
   "source": [
    "#KNN"
   ]
  },
  {
   "cell_type": "code",
   "execution_count": 90,
   "id": "b6311853",
   "metadata": {},
   "outputs": [
    {
     "data": {
      "text/plain": [
       "[<matplotlib.lines.Line2D at 0x1faf1179310>]"
      ]
     },
     "execution_count": 90,
     "metadata": {},
     "output_type": "execute_result"
    },
    {
     "data": {
      "image/png": "[encoded data removed]",
      "text/plain": [
       "<Figure size 432x288 with 1 Axes>"
      ]
     },
     "metadata": {
      "needs_background": "light"
     },
     "output_type": "display_data"
    }
   ],
   "source": [
    "\n",
    "from sklearn.neighbors import KNeighborsClassifier\n",
    "values=[]\n",
    "neighbors=np.arange(3,15)\n",
    "for k in neighbors:\n",
    "    classifier=KNeighborsClassifier(n_neighbors=k,metric='minkowski')\n",
    "    classifier.fit(X_train,y_train)\n",
    "    predictions=classifier.predict(X_test)\n",
    "    acc=accuracy_score(y_test,predictions)\n",
    "    values.append(acc)\n",
    "plt.plot(neighbors,values,'o-')"
   ]
  },
  {
   "cell_type": "code",
   "execution_count": 91,
   "id": "5a79e298",
   "metadata": {},
   "outputs": [
    {
     "name": "stdout",
     "output_type": "stream",
     "text": [
      "Accuracy is 0.9155225019069413\n",
      "MSE is 0.35850495804729215\n",
      "[[ 134    0    0   55    0    0]\n",
      " [   0 2380   15   72    1    0]\n",
      " [   0   48  450    0    0   26]\n",
      " [  20   77    0 1256    0    0]\n",
      " [   0    0    2    0  210   56]\n",
      " [   0    0   21    0   50  371]]\n"
     ]
    }
   ],
   "source": [
    "classifier=KNeighborsClassifier(n_neighbors=12,metric='minkowski')\n",
    "classifier.fit(X_train,y_train)\n",
    "predictions=classifier.predict(X_test)\n",
    "accuracy = accuracy_score(y_test,predictions)\n",
    "MSE=mean_squared_error(y_test,predictions)\n",
    "cm = confusion_matrix(y_test,predictions)\n",
    "results_arr['Accuracy'].append(accuracy)\n",
    "results_arr['MSE'].append(MSE)\n",
    "print('Accuracy is',accuracy)\n",
    "print('MSE is',MSE)\n",
    "print(cm)"
   ]
  },
  {
   "cell_type": "code",
   "execution_count": null,
   "id": "2d02733b",
   "metadata": {},
   "outputs": [],
   "source": [
    "#Random Forest Classifier"
   ]
  },
  {
   "cell_type": "code",
   "execution_count": 92,
   "id": "b7519e33",
   "metadata": {},
   "outputs": [
    {
     "name": "stdout",
     "output_type": "stream",
     "text": [
      "Accuracy is 0.9845537757437071\n",
      "MSE is 0.016018306636155607\n",
      "[[ 189    0    0    0    0    0]\n",
      " [   0 2468    0    0    0    0]\n",
      " [   0    0  524    0    0    0]\n",
      " [   0    0    0 1353    0    0]\n",
      " [   0    0    1    0  209   58]\n",
      " [   0    0    0    0   22  420]]\n"
     ]
    }
   ],
   "source": [
    "\n",
    "from sklearn.ensemble import RandomForestClassifier\n",
    "from sklearn.ensemble import RandomForestClassifier\n",
    "rf = RandomForestClassifier()\n",
    "rf.fit(X_train,y_train)\n",
    "predictions = rf.predict(X_test)\n",
    "accuracy = accuracy_score(y_test,predictions)\n",
    "MSE=mean_squared_error(y_test,predictions)\n",
    "cm = confusion_matrix(y_test,predictions)\n",
    "results_arr['Accuracy'].append(accuracy)\n",
    "results_arr['MSE'].append(MSE)\n",
    "print('Accuracy is',accuracy)\n",
    "print('MSE is',MSE)\n",
    "print(cm)"
   ]
  },
  {
   "cell_type": "code",
   "execution_count": null,
   "id": "a6d40af4",
   "metadata": {},
   "outputs": [],
   "source": [
    "From this we can concluded that"
   ]
  },
  {
   "cell_type": "code",
   "execution_count": null,
   "id": "52d1d0d6",
   "metadata": {},
   "outputs": [],
   "source": [
    "5.Model fine tuning"
   ]
  },
  {
   "cell_type": "code",
   "execution_count": null,
   "id": "cbb454b8",
   "metadata": {},
   "outputs": [],
   "source": [
    "#From the comparison of various regressor models used for the study, the model with low MSE Value is taken for fine tuning. i.e, the RF Regressor is choosen for this."
   ]
  },
  {
   "cell_type": "code",
   "execution_count": null,
   "id": "3014368e",
   "metadata": {},
   "outputs": [],
   "source": [
    "\n",
    "\n",
    "rf = RandomForestClassifier(n_estimators=500,max_depth=50,random_state=42,criterion='entropy')\n",
    "rf.fit(X_train,y_train)\n",
    "predictions = rf.predict(X_test)\n",
    "accuracy = accuracy_score(y_test,predictions)\n",
    "MSE=mean_squared_error(y_test,predictions)\n",
    "cm = confusion_matrix(y_test,predictions)\n",
    "results_arr['Accuracy'].append(accuracy)\n",
    "results_arr['MSE'].append(MSE)s\n",
    "print('Accuracy is',accuracy)\n",
    "print('MSE is',MSE)\n",
    "print(cm)"
   ]
  }
 ],
 "metadata": {
  "kernelspec": {
   "display_name": "Python 3",
   "language": "python",
   "name": "python3"
  },
  "language_info": {
   "codemirror_mode": {
    "name": "ipython",
    "version": 3
   },
   "file_extension": ".py",
   "mimetype": "text/x-python",
   "name": "python",
   "nbconvert_exporter": "python",
   "pygments_lexer": "ipython3",
   "version": "3.8.8"
  }
 },
 "nbformat": 4,
 "nbformat_minor": 5
}
