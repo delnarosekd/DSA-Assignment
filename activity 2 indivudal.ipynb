{
 "cells": [
  {
   "cell_type": "code",
   "execution_count": 4,
   "id": "52d43ca4",
   "metadata": {},
   "outputs": [
    {
     "name": "stdout",
     "output_type": "stream",
     "text": [
      "password is: attractivetable19/\n"
     ]
    }
   ],
   "source": [
    "import random\n",
    "\n",
    "adjectives=[\"attractive\",\"adroable\",\"cheerfull\",\"rich\",\"happy\",\"precious\",\"agreeable\",\"beautiful\",\"dull\"]\n",
    "noun=[\"book\",\"table\",\"mother\",\"children\",\"movie\",\"bed\",\"pen\",\"torch\",\"flask\",\"daya\",\"birds\",\"cock\",\"tissue\"]\n",
    "number=list(range(0,100))\n",
    "punctuation=[\"!\",\"@\",\"#\",\"%\",\"$\",\"%\",\"&\",\"*\",\"=\",\"<\",\">\",\":\",\"/\",\"?\"]\n",
    "adj=random.choice(adjectives)\n",
    "nou=random.choice(noun)\n",
    "num=random.choice(number)\n",
    "pun=random.choice(punctuation)\n",
    "\n",
    "password= str(adj)+str(nou)+str(num)+str(pun)\n",
    "print(\"password is:\",password)"
   ]
  },
  {
   "cell_type": "code",
   "execution_count": null,
   "id": "1121e934",
   "metadata": {},
   "outputs": [],
   "source": []
  },
  {
   "cell_type": "code",
   "execution_count": null,
   "id": "ef152218",
   "metadata": {},
   "outputs": [],
   "source": []
  }
 ],
 "metadata": {
  "kernelspec": {
   "display_name": "Python 3",
   "language": "python",
   "name": "python3"
  },
  "language_info": {
   "codemirror_mode": {
    "name": "ipython",
    "version": 3
   },
   "file_extension": ".py",
   "mimetype": "text/x-python",
   "name": "python",
   "nbconvert_exporter": "python",
   "pygments_lexer": "ipython3",
   "version": "3.8.8"
  }
 },
 "nbformat": 4,
 "nbformat_minor": 5
}
